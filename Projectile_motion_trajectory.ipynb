{
  "nbformat": 4,
  "nbformat_minor": 0,
  "metadata": {
    "colab": {
      "name": "Projectile_motion_trajectory.ipynb",
      "provenance": [],
      "collapsed_sections": [],
      "authorship_tag": "ABX9TyPSgM9rc3iBYwysPzrZ3Vun",
      "include_colab_link": true
    },
    "kernelspec": {
      "name": "python3",
      "display_name": "Python 3"
    },
    "widgets": {
      "application/vnd.jupyter.widget-state+json": {
        "fb09e6675a964fdcb2068520338e4c83": {
          "model_module": "@jupyter-widgets/controls",
          "model_name": "VBoxModel",
          "state": {
            "_view_name": "VBoxView",
            "_dom_classes": [
              "widget-interact"
            ],
            "_model_name": "VBoxModel",
            "_view_module": "@jupyter-widgets/controls",
            "_model_module_version": "1.5.0",
            "_view_count": null,
            "_view_module_version": "1.5.0",
            "box_style": "",
            "layout": "IPY_MODEL_35fb567aec634d598030e8ef5f8349d5",
            "_model_module": "@jupyter-widgets/controls",
            "children": [
              "IPY_MODEL_99f8fe0a38e641d6a825fba2ad2ef261",
              "IPY_MODEL_0cde90cd863e4815ba7b8c6f7f2d7aba",
              "IPY_MODEL_7115732633f140d5b5ad4e3598591b18",
              "IPY_MODEL_90718f78fb1e43f8b69ef29bf558639e",
              "IPY_MODEL_c3981dcc60534bb291bff0ec32602e78"
            ]
          }
        },
        "35fb567aec634d598030e8ef5f8349d5": {
          "model_module": "@jupyter-widgets/base",
          "model_name": "LayoutModel",
          "state": {
            "_view_name": "LayoutView",
            "grid_template_rows": null,
            "right": null,
            "justify_content": null,
            "_view_module": "@jupyter-widgets/base",
            "overflow": null,
            "_model_module_version": "1.2.0",
            "_view_count": null,
            "flex_flow": null,
            "width": null,
            "min_width": null,
            "border": null,
            "align_items": null,
            "bottom": null,
            "_model_module": "@jupyter-widgets/base",
            "top": null,
            "grid_column": null,
            "overflow_y": null,
            "overflow_x": null,
            "grid_auto_flow": null,
            "grid_area": null,
            "grid_template_columns": null,
            "flex": null,
            "_model_name": "LayoutModel",
            "justify_items": null,
            "grid_row": null,
            "max_height": null,
            "align_content": null,
            "visibility": null,
            "align_self": null,
            "height": null,
            "min_height": null,
            "padding": null,
            "grid_auto_rows": null,
            "grid_gap": null,
            "max_width": null,
            "order": null,
            "_view_module_version": "1.2.0",
            "grid_template_areas": null,
            "object_position": null,
            "object_fit": null,
            "grid_auto_columns": null,
            "margin": null,
            "display": null,
            "left": null
          }
        },
        "99f8fe0a38e641d6a825fba2ad2ef261": {
          "model_module": "@jupyter-widgets/controls",
          "model_name": "IntSliderModel",
          "state": {
            "_view_name": "IntSliderView",
            "style": "IPY_MODEL_4a5277951c0541288a19de6f94dde78d",
            "_dom_classes": [],
            "description": "theta",
            "step": 1,
            "_model_name": "IntSliderModel",
            "orientation": "horizontal",
            "max": 90,
            "_view_module": "@jupyter-widgets/controls",
            "_model_module_version": "1.5.0",
            "value": 0,
            "_view_count": null,
            "disabled": false,
            "_view_module_version": "1.5.0",
            "min": -90,
            "continuous_update": true,
            "readout_format": "d",
            "description_tooltip": null,
            "readout": true,
            "_model_module": "@jupyter-widgets/controls",
            "layout": "IPY_MODEL_237b68bfe19848fb9b4182b68a8462e3"
          }
        },
        "0cde90cd863e4815ba7b8c6f7f2d7aba": {
          "model_module": "@jupyter-widgets/controls",
          "model_name": "IntSliderModel",
          "state": {
            "_view_name": "IntSliderView",
            "style": "IPY_MODEL_ee6c753588904068b7efd3465ebc80e7",
            "_dom_classes": [],
            "description": "velo",
            "step": 1,
            "_model_name": "IntSliderModel",
            "orientation": "horizontal",
            "max": 25,
            "_view_module": "@jupyter-widgets/controls",
            "_model_module_version": "1.5.0",
            "value": 13,
            "_view_count": null,
            "disabled": false,
            "_view_module_version": "1.5.0",
            "min": 1,
            "continuous_update": true,
            "readout_format": "d",
            "description_tooltip": null,
            "readout": true,
            "_model_module": "@jupyter-widgets/controls",
            "layout": "IPY_MODEL_4924cc91a12b4e50af98e72e7a9c5d17"
          }
        },
        "7115732633f140d5b5ad4e3598591b18": {
          "model_module": "@jupyter-widgets/controls",
          "model_name": "IntSliderModel",
          "state": {
            "_view_name": "IntSliderView",
            "style": "IPY_MODEL_6ccbdb500c384fb09b74319cd808fac0",
            "_dom_classes": [],
            "description": "height",
            "step": 1,
            "_model_name": "IntSliderModel",
            "orientation": "horizontal",
            "max": 50,
            "_view_module": "@jupyter-widgets/controls",
            "_model_module_version": "1.5.0",
            "value": 34,
            "_view_count": null,
            "disabled": false,
            "_view_module_version": "1.5.0",
            "min": 0,
            "continuous_update": true,
            "readout_format": "d",
            "description_tooltip": null,
            "readout": true,
            "_model_module": "@jupyter-widgets/controls",
            "layout": "IPY_MODEL_058a91f78f9a4a5688252399d132804f"
          }
        },
        "90718f78fb1e43f8b69ef29bf558639e": {
          "model_module": "@jupyter-widgets/controls",
          "model_name": "IntSliderModel",
          "state": {
            "_view_name": "IntSliderView",
            "style": "IPY_MODEL_1044d3cbc3ff4031958393f7c856d134",
            "_dom_classes": [],
            "description": "acceleration",
            "step": 1,
            "_model_name": "IntSliderModel",
            "orientation": "horizontal",
            "max": 25,
            "_view_module": "@jupyter-widgets/controls",
            "_model_module_version": "1.5.0",
            "value": 13,
            "_view_count": null,
            "disabled": false,
            "_view_module_version": "1.5.0",
            "min": 1,
            "continuous_update": true,
            "readout_format": "d",
            "description_tooltip": null,
            "readout": true,
            "_model_module": "@jupyter-widgets/controls",
            "layout": "IPY_MODEL_e4ef26c0261c4accbce6f5bd5a0ee9cd"
          }
        },
        "c3981dcc60534bb291bff0ec32602e78": {
          "model_module": "@jupyter-widgets/output",
          "model_name": "OutputModel",
          "state": {
            "_view_name": "OutputView",
            "msg_id": "",
            "_dom_classes": [],
            "_model_name": "OutputModel",
            "outputs": [
              {
                "output_type": "stream",
                "metadata": {
                  "tags": []
                },
                "text": "Time of flight = 2.4494897427831783 s\nRange = 22.5166604983954 m\nMax height = 39.0 m\n",
                "stream": "stdout"
              },
              {
                "output_type": "display_data",
                "metadata": {
                  "tags": [],
                  "needs_background": "light"
                },
                "image/png": "iVBORw0KGgoAAAANSUhEUgAAAX4AAAEGCAYAAABiq/5QAAAABHNCSVQICAgIfAhkiAAAAAlwSFlzAAALEgAACxIB0t1+/AAAADh0RVh0U29mdHdhcmUAbWF0cGxvdGxpYiB2ZXJzaW9uMy4yLjIsIGh0dHA6Ly9tYXRwbG90bGliLm9yZy+WH4yJAAAgAElEQVR4nO3deXxU1f3/8deHJBIkrBJRAQUXqBQkKKIUtAlVRJAKKu6KSwu0iPsK3yrWomhdq9af1o0q2sYViitiKO4Ciqy1oqIFUXCFiKDA5/fHmUiEkEwgM3eW9/PxuI+ZubPcD4d5fObm3HM+x9wdERHJHvWiDkBERJJLiV9EJMso8YuIZBklfhGRLKPELyKSZXKjDiAeTZs29T333DPqMFLat99+S8OGDaMOI6Wpjaqn9qlZurXRrFmzPnf3wk33p0Xib9myJTNnzow6jJQ2bdo0iouLow4jpamNqqf2qVm6tZGZfVTVfnX1iIhkGSV+EZEso8QvIpJl0qKPX0Qyyw8//MCSJUtYs2ZN1KHUSpMmTVi4cGHUYWwmPz+f1q1bk5eXF9frlfhFJOmWLFlCo0aNaNu2LWYWdThxW7VqFY0aNYo6jJ9wd7744guWLFlCu3bt4nqPunpEJOnWrFnDDjvskFZJP1WZGTvssEOt/npS4heRSCjp153atqUSv4hIllHiF5Gs88UXX1BUVERRURE77bQTrVq1+vHx999/X+17Z86cydlnn71Vx7355ptZvXr1Vr23LunirohknR122IHZs2cDMGbMGAoKCrjwwgt/fH7dunXk5ladHrt160a3bt226rg333wzJ598Mttvv33c71m/fj05OTlbdbwt0Rm/iAhw2mmnMXz4cA444AAuvvhi3nzzTXr06EHXrl35xS9+wbvvvguEsg1HHHEEEGr3nHHGGXTv3p2uXbsyceJEICTrCy+8kE6dOrHPPvtw66238pe//IVPPvmEkpISSkpKAHj44Yfp3LkznTp14pJLLvkxloKCAi644AK6dOnC2LFjGThw4I/PTZkyhUGDBm3TvzXhZ/xmlgPMBJa6+xFm1g74B7ADMAs4xd2r/9tKRDLXuedC7Oy7zhQVwc031/ptS5Ys4dVXXyUnJ4eVK1fy0ksvkZubywsvvMCoUaO4//77f/L6sWPH0rt3b+69916+/vprunfvziGHHMLf//53Fi9ezOzZs8nNzeXLL7+kefPm3HjjjZSVldGiRQs++eQTLrnkEmbNmkWzZs3o06cPTz75JAMHDuTbb7/lgAMO4IYbbsDd2XvvvVmxYgWFhYXcd999nHHGGdvUPMk44z8HqDzj4VrgJnffE/gKODMJMYiI1Gjw4ME/dqt88803DB48mE6dOnHeeecxf/78zV7//PPPM27cOIqKiiguLmbNmjV8/PHHvPDCCwwbNuzH7qLmzZtv9t4ZM2ZQXFxMYWEhubm5nHTSSUyfPh2AnJwcjj76aCCM2DnllFN48MEH+frrr3nttdc4/PDDt+nfmdAzfjNrDfQHxgLnWxhz1Bs4MfaS8cAY4I5ExiEiKWwrzswTpXLJ5T/84Q+UlJTwxBNPsHjx4iqrcro7jz32GB06dKjTOPLz83/Sr3/66aczYMAA8vPzGTx48BavP8Qr0V09NwMXAxVT3XYAvnb3dbHHS4BWVb3RzIYCQwEKCwuZNm1aYiNNc+Xl5WqjGqiNqpfM9mnSpAmrVq1KyrFqsnbtWvLy8vjhhx/47rvvfozriy++oHnz5qxatYo777wTd2f9+vWsXr2adevWsWrVKkpKSrjhhhu4/vrrMTPeeecdunTpwkEHHcTtt99Ot27dftLV07BhQ5YtW0b9+vXp2LEjI0eOZPHixTRt2pQHH3yQYcOG/Xj8yu3TqFEjdtxxR6666iomTZpUZdutWbMm7v+/hCV+MzsCWO7us8ysuLbvd/e7gLsAOnTo4OlUAzsK6VYnPApqo+ols30WLlyYMqUP6tevT/369cnLy6NBgwY/xjVq1CiGDBnCDTfcQP/+/TEzcnJy2H777cnLy6NRo0ZcddVVnHvuufTs2ZMNGzbQrl07Jk+ezFlnncXHH39Mz549ycvL47e//S1nnXUWw4cP55hjjmGXXXahrKyMa6+9lgEDBuDu9O/fn+OPP/7HuDZtnyFDhnDzzTdvcURRfn4+Xbt2je8f7e4J2YBrCGf0i4FPgdXABOBzIDf2mh7AczV9Vvv27V2qV1ZWFnUIKU9tVL1kts+CBQuSdqy6tHLlSn/00Uf91FNPTfqxR4wY4XffffcWn6+qTYGZXkVOTdjFXXe/zN1bu3tb4HjgRXc/CSgDjom9bAgwMVExiIjUpaeffprRo0czbNiwpB53v/32Y86cOZx88sl18nlRTOC6BPiHmf0JeBu4p6Y35H77LTz3HOTlQW5uuK18v+K2YUNo3Bjy80F1QESkjvXr14/jjjsu6cedNWtWnX5eUhK/u08DpsXufwB0r837GyxdCn37xv+G3Fxo1Cj8CFRslR8XFkLLlptvzZpBPc1pE0kGd1ehtjoSenXilxYlG1bvuis8/DCsWwc//LDl22+/hZUrf7qtWhVuv/gCPvwQvvkGVqyA9es3P1BuLuy4Y/gR2Gkn2G03aNcO2rbduBUW6q8JkW2Un5/PF198odLMdcBj9fjz8/Pjfk9aJP71+fnwi1/U3Qdu2ABffgmffRa25cs33q/YPvkE3ngjvK6yBg3CD0DFD8Luu8Pee4dtt930F4NIHFq3bs2SJUtYsWJF1KHUypo1a2qVYJOlYgWueKVF4q9z9epBixZh+/nPq3/typXw0UewePFPtw8/hNdeg6++2vjaBg3gZz8LPwIdO278Qdhzz3ANQkQAyMvLi3u1qFQybdq0+IdMprDsTPy10bgxdO4ctqp8+SUsXAgLFoTbhQvh5ZfhoYc2viY3N/wA7Ltv2PbbD7p0gYKC5PwbREQqUeLfVs2bQ8+eYausvBzefTf8ICxYAHPmwLPPwvjx4Xmz8NdBxQ/BvvtC167hh0ZEJIGU+BOloCAk9P3227jPHZYtg1mz4K23wjZtGkyYsPE1HTtCr15h69kzXEvQxS8RqUNK/MlkBrvsErYBAzbu/+yz8CMwaxa8+ir8859w113huZ133vgj0KtX6CLaxgJNIpLdlEFSQcuWcPjhYYMw6mj+/HCt4JVXwu0jj4TnGjaEAw+E3r3h0ENDF1Edr84jIplNiT8V1au38YLy734X9i1ZsvFHYPp0GD06bM2bQ+/e7LzrrrDrrmF4qYhINZT400Xr1nDccWGDMPdg6lSYMgWmTKHDo4/CjTeGxH/ooWHr3TvMRhYRqUSJP13tuCOccELY3HnzgQfovnJl+CF46CG4887wl0OvXvDrX4dtr72ijlpEUoCmmWYCs1DW4qyzYOLEUJ7i5Zdh1KhQouLCC6F9+zCX4JJLQpdRVSUrRCQrKPFnory8MAroqqvCItaLF8Ott0KbNqE7qFevUIvo9NPhiSfCnAMRyRpK/Nlgt93CXwPPPw+ffw7/+Af06QNPPglHHRUKzx1zDDz6KKxeHXW0IpJgSvzZpkmTcIF4woRwgfjFF+HMM+Gll2Dw4HDt4MQTQ5fR2rVRRysiCaDEn83y8qCkBG67LVQjnToVTjopLHozcGD4ERgyBJ55JpS9FpGMkLDEb2b5Zvammb1jZvPN7MrY/vvN7EMzmx3bihIVg9RCTk4Y/nnnnfDppyHZH3VUOPPv1y9cExg+HF5/PZSeEJG0lcgz/rVAb3fvAhQBfc3swNhzF7l7UWybncAYZGvk5YUVz+67L5STmDQpPP7736FHj1BP6NprYenSqCMVka2QyMXW3d0rhovkxTadKqab+vVDXaEJE8JfAvfcE9YxuPTSMFP48MNDbaE1a6KOVETilNA+fjPLMbPZwHJgiru/EXtqrJnNMbObzKx+ImOQOtS4MZxxRrgQ/N57YZ7A/Plw/PGhmNzvfw9vvqmuIJEUZ7VdpHerDmLWFHgCGAl8AXwKbAfcBbzv7n+s4j1DgaEAhYWF+5WWliY8znRWXl5OQRQLu2zYQLO332anZ5+lxfTp5Hz/PeW7784nRx7JZ4ccwvrtt09+TFsQWRulCbVPzdKtjUpKSma5e7dN9ycl8QOY2eXAane/vtK+YuBCdz+iuvd26NDB33333QRHmN6mTZtGcXFxtEF8803o9rnjjjBxrFEjOOWUUGiuU6doYyNF2iiFqX1qlm5tZGZVJv5EjuopjJ3pY2YNgEOB/5jZzrF9BgwE5iUqBkmyJk1g6NCwtsBrr8GgQeGaQOfOcPDBYeLY999HHaVI1ktkH//OQJmZzQFmEPr4JwMTzGwuMBdoAfwpgTFIFMzCmgHjx4dy0n/+cxgBdMIJoWzE6NFhAXsRiUQiR/XMcfeu7r6Pu3eq6Md3997u3jm27+RKI38kE7VoEYrEvfdeWHP4wANh3LhQPvroo8OKYyKSVJq5K8lRrx4cdliYEPbhh3DxxVBWForJ9egR6gStWxd1lCJZQYlfkm/XXeGaa+B//wvlIlasCHWC9toLbrkFVq2KOkKRjKbEL9Fp2BBGjIB33w3loVu3hnPPDdcBLr44XB8QkTqnxC/Ry8kJReFeegneeCOUh7jxRmjXLhSNmzs36ghFMooSv6SW7t3DsM9Fi2DkyFAnaJ99wtDQmTOjjk4kIyjxS2pq2zac9X/0EVxxBUybBvvvH2oDvfJK1NGJpDUlfkltzZvDmDHhB+Caa8JZf69eYR2BqVNVF0hkKyjxS3po3DhUBF28GG66Cf77XzjkEPjFL2DyZP0AiNSCEr+kl4YNw8if998PNYE+/TSUjd5vP3jqKf0AiMRBiV/SU35+WBHsv/8NC8Z88w0ccUSYEFZWFnV0IilNiV/SW14enHYa/Oc/YdnIjz8OS0geckhYJlJENqPEL5khLy9UBl20KIwGmjMnlIIYMADeeSfq6ERSihK/ZJb8fDjvPPjgA/jTn8KksKIiOP54Gnz8cdTRiaQEJX7JTAUFofzzhx+GJSInT6b76afDmWfCJ59EHZ1IpJT4JbM1awZjx8IHH7B00CB44IFQDG7MGChXRXDJTkr8kh123JFFZ50FCxdC//5w5ZXhB+Duu2H9+qijE0kqJX7JLnvsAaWlYQGYdu3gt78N1wCeey7qyESSJpFr7uab2Ztm9o6ZzTezK2P725nZG2a2yMz+aWbbJSoGkS3q0SPU/HnkEVi9OlQEPeywMBpIJMMl8ox/LdDb3bsARUBfMzsQuBa4yd33BL4CzkxgDCJbZgbHHAMLFoQyEDNmhLP/M8+EZcuijk4kYRK55q5XWk83L7Y50Bt4NLZ/PDAwUTGIxKV+/Y1lIM47L1wAbt8err8evv8+6uhE6px5AmubmFkOMAvYE7gd+DPweuxsHzNrAzzj7p2qeO9QYChAYWHhfqWlpQmLMxOUl5dTUFAQdRgpLd42arB0KXvcfjstXnuN1W3a8N7IkXy1//5JiDBa+g7VLN3aqKSkZJa7d9vsCXdP+AY0BcqAXsCiSvvbAPNqen/79u1dqldWVhZ1CCmv1m00ebL7nnu6g/ugQe4ffpiIsFKGvkM1S7c2AmZ6FTk1KaN63P3rWOLvATQ1s9zYU62BpcmIQaTW+veHefPg6qvDqJ+99w7DQL/7LurIRLZJIkf1FJpZ09j9BsChwELCD8AxsZcNASYmKgaRbVa/Plx2WSgCd+SRYeJXx45hcXiVgJY0lcgz/p2BMjObA8wAprj7ZOAS4HwzWwTsANyTwBhE6kabNmEt4LKyUA7iqKPCEND//jfqyERqLbfml2wdd58DdK1i/wdA90QdVyShiovh7bfDIjB/+ENYCH70aLj44vDXgUga0MxdkdrKzYWRI0P3z8CBcPnl0LVrqAQqkgaU+EW21k47he6fp58Os38PPjiUgPjyy6gjE6mWEr/Itjr8cJg/Hy66KCwDuffe8NBDuvgrKUuJX6QuNGwI110Hs2ZB27Zw0knh4u/770cdmchmlPhF6lKXLqHy5623wmuvQadOMG4c/PBD1JGJ/EiJX6Su5eRARe3/fv3CPIADDlDlT0kZSvwiidKqFTz2GDz6KCxdCt26wR//qLN/iZwSv0iiHX10uPg7eDBccQXsvz/Mnh11VJLFlPhFkqFFC5gwIZR6+PTTkPyvuEJlnyUSNSZ+M8sxs1+b2dlmdn7FlozgRDLOwIFh4Zfjjw/dPt26wVtvRR2VZJl4zvj/BZxGqKvTqNImIlujefOw2MukSfD559C9O/zf/8HatVFHJlkinlo9rd19n4RHIpJtBgyAXr3g/PNh7FiYOBEefDAMCRVJoHjO+J8xsz4Jj0QkGzVrFmb7PvVUOPvff/8wEWz9+qgjkwwWT+J/HXjCzL4zs5VmtsrMViY6MJGs0q8fzJ0b/gq45BLo3Rs++ijqqCRDxZP4bySsnLW9uzd290bu3jjBcYlknxYtwpj/++8PpZ/32SdcC1DNH6lj8ST+/xHWxdW3TyTRzGDIEHjnnZD4Tz0VjjtOFT+lTsWT+D8AppnZZbUZzmlmbcyszMwWmNl8Mzsntn+MmS01s9mxrd+2/iNEMk67djBtGlxzDTz5JHTuDFOmRB2VZIh4Ev+HwFRgO2o3nHMdcIG7dwQOBEaYWcfYcze5e1Fse3or4hbJfDk5cOml8MYb0KQJ9OkD55yjxd5lm9U4nNPdr9yaD3b3ZcCy2P1VZrYQaLU1nyWS1bp2DeWeL70U/vIXmDo1LADTqVPUkUmasmR03ZtZW2A60Ak4nzAhbCUwk/BXwVdVvGcoMBSgsLBwv9LS0oTHmc7Ky8spKCiIOoyUlglt1GzGDPa+5hpyvv2WRSNHsqx//3BdoA5kQvskWrq1UUlJySx377bZE+6e0A0oAGYBR8UetwRyCN1MY4F7a/qM9u3bu1SvrKws6hBSXsa00bJl7oce6g7uxx7r/vXXdfKxGdM+CZRubQTM9CpyakKLtJlZHvAYMMHdH4/90Hzm7uvdfQPwN6B7ImMQyTg77QTPPhsWeHnsMSgqCtcBROIUT5G2QjMbZWZ3mdm9FVsc7zPgHmChu99Yaf/OlV42CJi3NYGLZLV69cJEr5deCuP8e/UKM343bIg6MkkD8dTqmQi8BLwA1GYeeU/gFGCumVUUHx8FnGBmRYADi4FhtfhMEamsR49Q2/83vwk/BC++COPHQ8uWUUcmKSyexL+9u19S2w9295eBqq46afimSF1q2hQeeQTuugvOPTcUeXvwQTjkkKgjkxQVTx//ZE2yEklxZjBsGLz5Zij73KdPKPWsYm9ShXgS/zmE5K8ibSKprnNnmDEDTjstlHo+7DBYsSLqqCTF1Jj4PRRlq+fuDVxF2kRSX8OGcO+9cM898MorYQLYq69GHZWkkC0mfjP7Wex236q25IUoIlvljDNCwq9fH375S7jlFlX6FKD6i7vnE2bO3lDFcw70TkhEIlJ3Kso9DBkSLvy++ircfTc00uqp2WyLid/dh8ZuS5IXjojUuaZN4Ykn4M9/hlGjQsnnxx6Dn/886sgkIgmduSsiKaJiwtfUqfD112GB94ceijoqiYgSv0g2KS6Gt96CffeFk06CESNg7dqoo5IkU+IXyTa77BJm+F5wAfz1r2F932XLoo5KkiieWj1T49knImkkLw+uvx5KS0PJh27daLRgQdRRSZJUN5wz38yaAy3MrJmZNY9tbdGCKiKZYfDgMNJnu+3oeu65cN99UUckSVDdGf8wQh39n8VuK7aJwG2JD01EkqJLF5g5k286dQpj/88+G374IeqoJIG2mPjd/RZ3bwdc6O67u3u72NbF3ZX4RTLJDjsw589/hvPOg1tvDbV+VOohY8Wz5u6tZvYLoG3l17v73xMYl4gkmefkwI03hoVdhg6Fbt3gySfDJDDJKPFc3H0AuB7oBewf2zZfw1FEMsOpp8LLL4dFXXr2hIcfjjoiqWPx1OPvBnSMrd8oItmgWzeYOROOOQZOPBHefhuuuQZycqKOTOpAPOP45wE71faDzayNmZWZ2QIzm29m58T2NzezKWb2Xuy2WW0/W0SSoGXLMNN3+PBQ7uHII2HVqqijkjpQ3XDOf5nZJKAFsMDMnjOzSRVbHJ+9DrjA3TsCBwIjzKwjcCkw1d33AqbGHotIKtpuO7jjDrj99rDAe8+e8NFHUUcl26i6rp7rt+WD3X0ZsCx2f5WZLSSM/z8SKI69bDwwDaj10o4ikkS//z3suWcY99+9O0ycCAceGHVUspUsGV33sUlf04FOwMfu3jS234CvKh5v8p6hhLLQFBYW7ldaWprwONNZeXk5BQUFUYeR0tRG1YunfbZfvJjOo0dTf8UK/nPppSzvnV3V2dPtO1RSUjLL3TcfjOPu1W7AKmDlJtv/gCeA3eN4fwFh4tdRscdfb/L8VzV9Rvv27V2qV1ZWFnUIKU9tVL2422fFCveDDnIH9zFj3DdsSGhcqSTdvkPATK8ip8Zzcfdm4CJCN01r4ELgIeAfwL3VvdHM8oDHgAnu/nhs92dmtnPs+Z2B5XHEICKpokULmDIlLO4yZkyo8vndd1FHJbUQT+L/tbvf6e6r3H2lu98FHObu/wS2OCIn1o1zD7DQ3W+s9NQkYEjs/hBCCQgRSSf164e6PuPGhXH+JSXw6adRRyVxiifxrzazY82sXmw7FlgTe666CwQ9gVOA3mY2O7b1A8YBh5rZe8Ahsccikm7MwuIujz8Oc+fCAQfAnDlRRyVxiGcC10nALcBfCYn+deBkM2sAnLWlN7n7y4Bt4elf1TJOEUlVgwbBSy/BgAFhuOejj8Jhh0UdlVSjxjN+d//A3Qe4ewt3L4zdX+Tu38WSu4hku333hTffhD32gP794d5qL/9JxLZ4xm9mF7v7dWZ2K1V06bj72QmNTETSS6tWMH16GOt/5pnw8cdwxRWhS0hSSnVdPQtjtzOTEYiIZIDGjWHyZBg2DK68MszyveuusOKXpIwtJn53/1fsdjyAmW3v7quTFZiIpKm8PLjnHthttzDcc+nS0O/fuHHUkUlMPGWZe5jZAuA/scddzOyvCY9MRNKXWejmue8+KCuDgw4KPwCSEuKdwHUY8AWAu78DHJzIoEQkQ5x2Gjz1FHz4YajtM3du1BEJ8SV+3P1/m+xan4BYRCQT9ekTLvpu2AC9esGLL0YdUdaLJ/H/L7b0optZnpldyMYLvyIiNSsqgtdfhzZtoG9fePDBqCPKavEk/uHACEKtnqVAUeyxiEj82rQJSzr26gWnnBLW95VIxLPY+ueE2bsiItumaVN45hk4+WS44AJYvjws6aix/klV3QSuKiduVdAELhHZKvXrwz/+AWedBddeCytWwJ13Qm48FWSkLlTX0pUnbl0JXJHgWEQkW+TkwF//Gtb1vfJK+Pzz8GPQoEHUkWWF6iZwja+4b2bnVn4sIrLNzMIEr8JCGDkyFHabNCl0B0lCxTWck+rLL4uIbL0RI0JN/9dfh1/+EpYtizqijBdv4hcRSZzjjgsTvd5/P5R2XrQo6ogy2hYTv5mtMrOVZrYS2KfifsX+JMYoItng0ENDeYeVK0Pyf/vtqCPKWFtM/O7eyN0bx7bcSvcbuXuN1ZbM7F4zW25m8yrtG2NmSzdZkUtEJNh/f3jlFcjPD90+06ZFHVFGSmRXz/1A3yr23+TuRbHt6QQeX0TSUYcO8OqrYcLX4YfD00oTdS1hid/dpwNfJurzRSSDtWoF//43/PznMHAgPPJI1BFlFHNP3IAdM2sLTHb3TrHHY4DTgJWEeQIXuPtXW3jvUGAoQGFh4X6lpaUJizMTlJeXU1BQEHUYKU1tVL1UbJ+c8nI6jxpFk/nzefeii/i0b1WdCMmTim1UnZKSklnu3m2zJ9w9YRvQFphX6XFLIIfwl8ZY4N54Pqd9+/Yu1SsrK4s6hJSnNqpeyrZPebn7oYe6g/ttt0UaSsq20RYAM72KnJrU4Zzu/pm7r3f3DcDfgO7JPL6IpKGGDeFf/4IjjwxlHsaNizqitJfUxG9mO1d6OAiYt6XXioj8qH790M9/4olw2WUwejQksJs60yWsKpKZPQwUAy3MbAmh1k+xmRURZgIvBoYl6vgikmHy8uDvfw9/AVx9NZSXw003QT3NQ62thCV+dz+hit33JOp4IpIFcnJCJc9GjUI9/1Wr4G9/C/slbqqDKiLpxQyuvz4k/yuvhG+/hQcegO22izqytKHELyLpp6KyZ0EBXHQRrF0LpaVK/nFS55iIpK8LL4TbboOJE+Hoo8MPgNRIiV9E0tuIEXDHHTB5MgwaBGvWRB1RylPiF5H0N3x4uMj77LNhvP9330UdUUpT4heRzPCb38A998CUKTBgAKxeHXVEKUuJX0Qyx+mnw/33w4svwhFHhBE/shklfhHJLKeeGoZ3/vvf0K9fmOglP6HELyKZ56STYMKEsKhL375hopf8SIlfRDLT8cdvXMT9sMPCko4CKPGLSCYbPDhM7JoxA/r0gW++iTqilKDELyKZ7aij4NFH4a231O0To8QvIpnvyCPhn/8MZ/664KvELyJZYtAgeOihsJB7lo/zV+IXkexx7LFhqOf06Vk9w1eJX0Syy4knwr33wtSpof8/C2v7JCzxm9m9ZrbczOZV2tfczKaY2Xux22aJOr6IyBYNGbKxts/gwfD991FHlFSJPOO/H+i7yb5LganuvhcwNfZYRCT5zjxzY1XP44+HH36IOqKkSVjid/fpwJeb7D4SGB+7Px4YmKjji4jUaPhw+Mtf4IknwmzfdeuijigpzBO4Ur2ZtQUmu3un2OOv3b1p7L4BX1U8ruK9Q4GhAIWFhfuVlpYmLM5MUF5eTkFBQdRhpDS1UfWyuX1al5ay5x138NmvfsXCyy7b4hq+6dZGJSUls9y926b7I1t60d3dzLb4q+PudwF3AXTo0MGLi4uTFVpamjZtGmqj6qmNqpfV7VNcDLvtRstLL6Vlq1Zw331Qb/MOkUxpo2Qn/s/MbGd3X2ZmOwPLk3x8EZGqXXJJuMh7+eXQsCHcfntY2zcDJTvxTwKGAONitxOTfHwRkS37v/8Ls3qvuw4aNYJx4zIy+Scs8ZvZw3gOjP4AAAo5SURBVEAx0MLMlgBXEBJ+qZmdCXwEHJuo44uI1JpZSParVoXk36QJjBoVdVR1LmGJ391P2MJTv0rUMUVEtpkZ3HZbOPMfPRoKCuDss6OOqk5FdnFXRCRl1asXZveWl8M554Run9NPjzqqOqPELyJSldzcsJDLgAFhIfeCAigsjDqqOqFaPSIiW1K/fpjc1aMHnHQSzV9/PeqI6oQSv4hIdRo2hKeegs6d+fkVV4RF3NOcEr+ISE2aNIHnnmPNzjvDEUfAm29GHdE2UeIXEYlHixa8c/31sOOOYQnHuXOjjmirKfGLiMTp+xYt4IUXoEEDOPRQ+OCDqEPaKkr8IiK10a4dTJkSyjj36QOffRZ1RLWmxC8iUlsdO4YLvsuWhW6fb76JOqJaUeIXEdkaBx4Ijz0G8+aF9XvTaAlHJX4Rka3Vty+MHx+GeJ5wQtos5KLELyKyLU48EW65BZ58En73O0jg4lZ1RSUbRES21dlnw4oV8Kc/heGeY8dGHVG1lPhFROrCH/8Iy5fD1VeHmj7nnht1RFukxC8iUhfM4K9/hc8/h/POgxYt4OSTo46qSurjFxGpKzk5MGEClJSEMs5PPx11RFWKJPGb2WIzm2tms81sZhQxiIgkRH5+uNC7zz5wzDHw2mtRR7SZKM/4S9y9yN27RRiDiEjda9wYnnkGWrUKRd3efTfqiH5CXT0iIomw447w7LNhQZe+feHTT6OO6EdRJX4HnjezWWY2NKIYREQSa489YPLkMNqnf/+wlGMKMI9gsoGZtXL3pWa2IzAFGOnu0zd5zVBgKEBhYeF+paWlSY8znZSXl1NQUBB1GClNbVQ9tU/NtraNmr/+Op1Hj+bLbt2YN3YsnpucAZUlJSWzqupOjyTx/yQAszFAubtfv6XXdOjQwd9NsT6yVDNt2jSKi4ujDiOlqY2qp/ap2Ta10d13w29/G0b73HNPGP6ZYGZWZeJPelePmTU0s0YV94E+wLxkxyEiklS/+Q1cfjncdx+MGRNpKFFM4GoJPGHh1y4XeMjdn40gDhGR5BozBpYsCbN827QJPwYRSHrid/cPgC7JPq6ISOTM4P/9P/jkExg+HHbZBfr1S3oYGs4pIpJMeXnwyCNQVASDB8OMGUkPQYlfRCTZCgrCCl4tW4Zhnu+/n9TDK/GLiEShZcswu3fDhjDBa8WKpB1aiV9EJCodOsC//hUu+A4cmLTlG5X4RUSi1KMHPPAAvPoqnHZa+AsgwZT4RUSidswxcO218M9/hrH+CaaFWEREUsFFF8GiRWHZxj32CDN8E0SJX0QkFZjB7bfD4sUwdCjsthv07p2QQ6mrR0QkVVSM8e/QAY46ChYuTMhhlPhFRFJJkyahlHN+fhjjv3x5nR9CiV9EJNW0bQuTJoXFW448Er77rk4/XolfRCQVde8ODz4Ib7wBQ4bU6TBPJX4RkVR11FFw3XWh33/06Dr7WI3qERFJZRdcEIZ5jhsXhnnWQSlnJX4RkVRmBrfdFoZ5Dh8O7drBr361TR+prh4RkVSXmwulpWGY5+DB8N572/RxSvwiIumgceNQ0K1ePRgwAL7+eqs/KpLEb2Z9zexdM1tkZpdGEYOISNrZfXd4/HH44AM47jhYt26rPiaKxdZzgNuBw4GOwAlm1jHZcYiIpKWDD4Y77oDnn4fzz9+qj4ji4m53YFFs7V3M7B/AkcCCCGIREUk/Z54JCxbAjTdCx47hom8tRJH4WwH/q/R4CXDApi8ys6HA0NjDtWY2LwmxpbMWwOdRB5Hi1EbVU/vULPXa6He/C1vVdqtqZ8oO53T3u4C7AMxsprt3iziklKY2qpnaqHpqn5plShtFcXF3KdCm0uPWsX0iIpIEUST+GcBeZtbOzLYDjgcmRRCHiEhWSnpXj7uvM7OzgOeAHOBed59fw9vuSnxkaU9tVDO1UfXUPjXLiDYyd486BhERSSLN3BURyTJK/CIiWSalE79KO9TMzBab2Vwzm21mM6OOJxWY2b1mtrzy3A8za25mU8zsvdhtsyhjjNoW2miMmS2NfZdmm1m/KGOMmpm1MbMyM1tgZvPN7JzY/rT/LqVs4ldph1opcfeiTBhfXEfuB/pusu9SYKq77wVMjT3OZvezeRsB3BT7LhW5+9NJjinVrAMucPeOwIHAiFgOSvvvUsomfiqVdnD374GK0g4i1XL36cCXm+w+Ehgfuz8eGJjUoFLMFtpIKnH3Ze7+Vuz+KmAhofJA2n+XUjnxV1XaoVVEsaQyB543s1mxMhdStZbuvix2/1OgZZTBpLCzzGxOrCso7bowEsXM2gJdgTfIgO9SKid+iU8vd9+X0CU2wswOjjqgVOdhDLPGMW/uDmAPoAhYBtwQbTipwcwKgMeAc919ZeXn0vW7lMqJX6Ud4uDuS2O3y4EnCF1ksrnPzGxngNjt8ojjSTnu/pm7r3f3DcDf0HcJM8sjJP0J7v54bHfaf5dSOfGrtEMNzKyhmTWquA/0AVTFtGqTgCGx+0OAiRHGkpIqklnMILL8u2RmBtwDLHT3Gys9lfbfpZSeuRsbTnYzG0s7jI04pJRiZrsTzvIhlN94SG0EZvYwUEwoofsZcAXwJFAK7Ap8BBzr7ll7cXMLbVRM6OZxYDEwrFJfdtYxs17AS8BcYENs9yhCP39af5dSOvGLiEjdS+WuHhERSQAlfhGRLKPELyKSZZT4RUSyjBK/iEiWUeKXjGNm62PVJeeZ2b/MrGlEcXQzs79EcWyR6mg4p2QcMyt394LY/fHAfzW/QWQjnfFLpnuNWHE/M+tuZq+Z2dtm9qqZdYjtP83MHjezZ2M11q+reLOZnWlm/zWzN83sb2Z2W2x/oZk9ZmYzYlvPTQ9sZsVmNjl2f0ys8Nk0M/vAzM6uKlgzKzezP8fqv78Qi7niPb9OQPtIFlLil4wVW9PhV2ws9fEf4CB37wpcDlxd6eVFwHFAZ+C42CIcuwB/INRi7wn8rNLrbyHUrt8fOBq4O46QfgYcRqiBc0WsDsymGgIvuvvPgVXAn4BDCSUU/hjHMURqlBt1ACIJ0MDMZhPO9BcCU2L7mwDjzWwvQlmCyol3qrt/A2BmC4DdCOUM/l0xHd/MHgHax15/CNAxlHMBoLGZFbh7eTVxPeXua4G1ZracUM53ySav+R54NnZ/LrDW3X8ws7lA23gbQKQ6OuOXTPSduxcRkrcBI2L7rwLK3L0TMADIr/SetZXur6fmk6J6wIGVVqtqVUPSj/cYP/jGC28bKt4Tq5ipEzWpE0r8krHcfTVwNnCBmeUSzvgrSnufFsdHzAB+aWbNYu8/utJzzwMjKx6YWVGdBC2SBEr8ktHc/W1gDnACcB1wjZm9TRxnz7G1Dq4G3gReIVSs/Cb29NlAt9hqVQuA4XUfvUhiaDinSDUq+u1jZ/xPEMqDP1HT+0RSmc74Rao3JnaheB7wIaGuv0ha0xm/iEiW0Rm/iEiWUeIXEckySvwiIllGiV9EJMso8YuIZJn/D3NXJtjFIdAOAAAAAElFTkSuQmCC\n",
                "text/plain": "<Figure size 432x288 with 1 Axes>"
              }
            ],
            "_view_module": "@jupyter-widgets/output",
            "_model_module_version": "1.0.0",
            "_view_count": null,
            "_view_module_version": "1.0.0",
            "layout": "IPY_MODEL_cd9f9845aa5440538f64584edf47b895",
            "_model_module": "@jupyter-widgets/output"
          }
        },
        "4a5277951c0541288a19de6f94dde78d": {
          "model_module": "@jupyter-widgets/controls",
          "model_name": "SliderStyleModel",
          "state": {
            "_view_name": "StyleView",
            "handle_color": null,
            "_model_name": "SliderStyleModel",
            "description_width": "",
            "_view_module": "@jupyter-widgets/base",
            "_model_module_version": "1.5.0",
            "_view_count": null,
            "_view_module_version": "1.2.0",
            "_model_module": "@jupyter-widgets/controls"
          }
        },
        "237b68bfe19848fb9b4182b68a8462e3": {
          "model_module": "@jupyter-widgets/base",
          "model_name": "LayoutModel",
          "state": {
            "_view_name": "LayoutView",
            "grid_template_rows": null,
            "right": null,
            "justify_content": null,
            "_view_module": "@jupyter-widgets/base",
            "overflow": null,
            "_model_module_version": "1.2.0",
            "_view_count": null,
            "flex_flow": null,
            "width": null,
            "min_width": null,
            "border": null,
            "align_items": null,
            "bottom": null,
            "_model_module": "@jupyter-widgets/base",
            "top": null,
            "grid_column": null,
            "overflow_y": null,
            "overflow_x": null,
            "grid_auto_flow": null,
            "grid_area": null,
            "grid_template_columns": null,
            "flex": null,
            "_model_name": "LayoutModel",
            "justify_items": null,
            "grid_row": null,
            "max_height": null,
            "align_content": null,
            "visibility": null,
            "align_self": null,
            "height": null,
            "min_height": null,
            "padding": null,
            "grid_auto_rows": null,
            "grid_gap": null,
            "max_width": null,
            "order": null,
            "_view_module_version": "1.2.0",
            "grid_template_areas": null,
            "object_position": null,
            "object_fit": null,
            "grid_auto_columns": null,
            "margin": null,
            "display": null,
            "left": null
          }
        },
        "ee6c753588904068b7efd3465ebc80e7": {
          "model_module": "@jupyter-widgets/controls",
          "model_name": "SliderStyleModel",
          "state": {
            "_view_name": "StyleView",
            "handle_color": null,
            "_model_name": "SliderStyleModel",
            "description_width": "",
            "_view_module": "@jupyter-widgets/base",
            "_model_module_version": "1.5.0",
            "_view_count": null,
            "_view_module_version": "1.2.0",
            "_model_module": "@jupyter-widgets/controls"
          }
        },
        "4924cc91a12b4e50af98e72e7a9c5d17": {
          "model_module": "@jupyter-widgets/base",
          "model_name": "LayoutModel",
          "state": {
            "_view_name": "LayoutView",
            "grid_template_rows": null,
            "right": null,
            "justify_content": null,
            "_view_module": "@jupyter-widgets/base",
            "overflow": null,
            "_model_module_version": "1.2.0",
            "_view_count": null,
            "flex_flow": null,
            "width": null,
            "min_width": null,
            "border": null,
            "align_items": null,
            "bottom": null,
            "_model_module": "@jupyter-widgets/base",
            "top": null,
            "grid_column": null,
            "overflow_y": null,
            "overflow_x": null,
            "grid_auto_flow": null,
            "grid_area": null,
            "grid_template_columns": null,
            "flex": null,
            "_model_name": "LayoutModel",
            "justify_items": null,
            "grid_row": null,
            "max_height": null,
            "align_content": null,
            "visibility": null,
            "align_self": null,
            "height": null,
            "min_height": null,
            "padding": null,
            "grid_auto_rows": null,
            "grid_gap": null,
            "max_width": null,
            "order": null,
            "_view_module_version": "1.2.0",
            "grid_template_areas": null,
            "object_position": null,
            "object_fit": null,
            "grid_auto_columns": null,
            "margin": null,
            "display": null,
            "left": null
          }
        },
        "6ccbdb500c384fb09b74319cd808fac0": {
          "model_module": "@jupyter-widgets/controls",
          "model_name": "SliderStyleModel",
          "state": {
            "_view_name": "StyleView",
            "handle_color": null,
            "_model_name": "SliderStyleModel",
            "description_width": "",
            "_view_module": "@jupyter-widgets/base",
            "_model_module_version": "1.5.0",
            "_view_count": null,
            "_view_module_version": "1.2.0",
            "_model_module": "@jupyter-widgets/controls"
          }
        },
        "058a91f78f9a4a5688252399d132804f": {
          "model_module": "@jupyter-widgets/base",
          "model_name": "LayoutModel",
          "state": {
            "_view_name": "LayoutView",
            "grid_template_rows": null,
            "right": null,
            "justify_content": null,
            "_view_module": "@jupyter-widgets/base",
            "overflow": null,
            "_model_module_version": "1.2.0",
            "_view_count": null,
            "flex_flow": null,
            "width": null,
            "min_width": null,
            "border": null,
            "align_items": null,
            "bottom": null,
            "_model_module": "@jupyter-widgets/base",
            "top": null,
            "grid_column": null,
            "overflow_y": null,
            "overflow_x": null,
            "grid_auto_flow": null,
            "grid_area": null,
            "grid_template_columns": null,
            "flex": null,
            "_model_name": "LayoutModel",
            "justify_items": null,
            "grid_row": null,
            "max_height": null,
            "align_content": null,
            "visibility": null,
            "align_self": null,
            "height": null,
            "min_height": null,
            "padding": null,
            "grid_auto_rows": null,
            "grid_gap": null,
            "max_width": null,
            "order": null,
            "_view_module_version": "1.2.0",
            "grid_template_areas": null,
            "object_position": null,
            "object_fit": null,
            "grid_auto_columns": null,
            "margin": null,
            "display": null,
            "left": null
          }
        },
        "1044d3cbc3ff4031958393f7c856d134": {
          "model_module": "@jupyter-widgets/controls",
          "model_name": "SliderStyleModel",
          "state": {
            "_view_name": "StyleView",
            "handle_color": null,
            "_model_name": "SliderStyleModel",
            "description_width": "",
            "_view_module": "@jupyter-widgets/base",
            "_model_module_version": "1.5.0",
            "_view_count": null,
            "_view_module_version": "1.2.0",
            "_model_module": "@jupyter-widgets/controls"
          }
        },
        "e4ef26c0261c4accbce6f5bd5a0ee9cd": {
          "model_module": "@jupyter-widgets/base",
          "model_name": "LayoutModel",
          "state": {
            "_view_name": "LayoutView",
            "grid_template_rows": null,
            "right": null,
            "justify_content": null,
            "_view_module": "@jupyter-widgets/base",
            "overflow": null,
            "_model_module_version": "1.2.0",
            "_view_count": null,
            "flex_flow": null,
            "width": null,
            "min_width": null,
            "border": null,
            "align_items": null,
            "bottom": null,
            "_model_module": "@jupyter-widgets/base",
            "top": null,
            "grid_column": null,
            "overflow_y": null,
            "overflow_x": null,
            "grid_auto_flow": null,
            "grid_area": null,
            "grid_template_columns": null,
            "flex": null,
            "_model_name": "LayoutModel",
            "justify_items": null,
            "grid_row": null,
            "max_height": null,
            "align_content": null,
            "visibility": null,
            "align_self": null,
            "height": null,
            "min_height": null,
            "padding": null,
            "grid_auto_rows": null,
            "grid_gap": null,
            "max_width": null,
            "order": null,
            "_view_module_version": "1.2.0",
            "grid_template_areas": null,
            "object_position": null,
            "object_fit": null,
            "grid_auto_columns": null,
            "margin": null,
            "display": null,
            "left": null
          }
        },
        "cd9f9845aa5440538f64584edf47b895": {
          "model_module": "@jupyter-widgets/base",
          "model_name": "LayoutModel",
          "state": {
            "_view_name": "LayoutView",
            "grid_template_rows": null,
            "right": null,
            "justify_content": null,
            "_view_module": "@jupyter-widgets/base",
            "overflow": null,
            "_model_module_version": "1.2.0",
            "_view_count": null,
            "flex_flow": null,
            "width": null,
            "min_width": null,
            "border": null,
            "align_items": null,
            "bottom": null,
            "_model_module": "@jupyter-widgets/base",
            "top": null,
            "grid_column": null,
            "overflow_y": null,
            "overflow_x": null,
            "grid_auto_flow": null,
            "grid_area": null,
            "grid_template_columns": null,
            "flex": null,
            "_model_name": "LayoutModel",
            "justify_items": null,
            "grid_row": null,
            "max_height": null,
            "align_content": null,
            "visibility": null,
            "align_self": null,
            "height": null,
            "min_height": null,
            "padding": null,
            "grid_auto_rows": null,
            "grid_gap": null,
            "max_width": null,
            "order": null,
            "_view_module_version": "1.2.0",
            "grid_template_areas": null,
            "object_position": null,
            "object_fit": null,
            "grid_auto_columns": null,
            "margin": null,
            "display": null,
            "left": null
          }
        }
      }
    }
  },
  "cells": [
    {
      "cell_type": "markdown",
      "metadata": {
        "id": "view-in-github",
        "colab_type": "text"
      },
      "source": [
        "<a href=\"https://colab.research.google.com/github/vaammpyy/Physics_with_python/blob/main/Projectile_motion_trajectory.ipynb\" target=\"_parent\"><img src=\"https://colab.research.google.com/assets/colab-badge.svg\" alt=\"Open In Colab\"/></a>"
      ]
    },
    {
      "cell_type": "code",
      "metadata": {
        "id": "hn4-gobLdcHP"
      },
      "source": [
        "import matplotlib.pyplot as plt\r\n",
        "import numpy as np\r\n",
        "from ipywidgets import interactive\r\n",
        "import sympy as sp"
      ],
      "execution_count": 9,
      "outputs": []
    },
    {
      "cell_type": "code",
      "metadata": {
        "id": "D4VUIJfZhBWX"
      },
      "source": [
        "def plotter(x,f,xlim):\r\n",
        "  plt.plot(x,f,'r')\r\n",
        "  plt.grid()\r\n",
        "  plt.legend([\"Trajectory\"])\r\n",
        "  plt.ylabel(\"Height in m\")\r\n",
        "  plt.xlabel(\"Range in m\")\r\n",
        "  plt.ylim(bottom=0)\r\n",
        "  plt.xlim(0,xlim)\r\n",
        "  plt.show()"
      ],
      "execution_count": 10,
      "outputs": []
    },
    {
      "cell_type": "code",
      "metadata": {
        "id": "D8xbuGhKimhw"
      },
      "source": [
        "def trajectory(theta,velo,height,acceleration):\r\n",
        "  theta=theta*np.pi/180\r\n",
        "  u=velo\r\n",
        "  h=height\r\n",
        "  accel=acceleration\r\n",
        "  xlim=0\r\n",
        "  d= sp.Symbol('d')\r\n",
        "  k=d*np.tan(theta)-accel*d**2/(u**2*(np.cos(theta))**2)+h\r\n",
        "  m=sp.solve(k)\r\n",
        "  if len(m)==2:\r\n",
        "    xlim=np.ceil(m[1])\r\n",
        "  else:\r\n",
        "    xlim=np.ceil(m[0])\r\n",
        "  x=np.linspace(0,10+xlim,50)\r\n",
        "  f=lambda theta,u,h,accel:x*np.tan(theta)-accel*x**2/(u**2*(np.cos(theta))**2)+h\r\n",
        "  t=(u*np.sin(theta)+np.sqrt((u*np.sin(theta))**2+2*accel*h))/accel\r\n",
        "  h_max=(u*np.sin(theta))**2/(2*accel)+h\r\n",
        "  print(\"Time of flight =\",t,'s')\r\n",
        "  if len(m)==2:\r\n",
        "     print(\"Range =\",m[1],'m')\r\n",
        "  else:\r\n",
        "     print(\"Range =\",m[0],'m')\r\n",
        "  print(\"Max height =\",h_max,'m')\r\n",
        "  plotter(x,f(theta,u,h,accel),xlim)\r\n",
        "\r\n"
      ],
      "execution_count": 11,
      "outputs": []
    },
    {
      "cell_type": "code",
      "metadata": {
        "colab": {
          "base_uri": "https://localhost:8080/",
          "height": 771,
          "referenced_widgets": [
            "fb09e6675a964fdcb2068520338e4c83",
            "35fb567aec634d598030e8ef5f8349d5",
            "99f8fe0a38e641d6a825fba2ad2ef261",
            "0cde90cd863e4815ba7b8c6f7f2d7aba",
            "7115732633f140d5b5ad4e3598591b18",
            "90718f78fb1e43f8b69ef29bf558639e",
            "c3981dcc60534bb291bff0ec32602e78",
            "4a5277951c0541288a19de6f94dde78d",
            "237b68bfe19848fb9b4182b68a8462e3",
            "ee6c753588904068b7efd3465ebc80e7",
            "4924cc91a12b4e50af98e72e7a9c5d17",
            "6ccbdb500c384fb09b74319cd808fac0",
            "058a91f78f9a4a5688252399d132804f",
            "1044d3cbc3ff4031958393f7c856d134",
            "e4ef26c0261c4accbce6f5bd5a0ee9cd",
            "cd9f9845aa5440538f64584edf47b895"
          ]
        },
        "id": "E9gMCE4Vo7M6",
        "outputId": "c884b39a-b37b-4101-ce18-c1213b05863c"
      },
      "source": [
        "iplot=interactive(trajectory,\r\n",
        "                  theta=(-90,90,1),\r\n",
        "                  velo=(1,25,1),\r\n",
        "                  height=(0,50,1),\r\n",
        "                  acceleration=(1,25,1)\r\n",
        "                  )\r\n",
        "iplot"
      ],
      "execution_count": 12,
      "outputs": [
        {
          "output_type": "display_data",
          "data": {
            "application/vnd.jupyter.widget-view+json": {
              "model_id": "fb09e6675a964fdcb2068520338e4c83",
              "version_minor": 0,
              "version_major": 2
            },
            "text/plain": [
              "interactive(children=(IntSlider(value=0, description='theta', max=90, min=-90), IntSlider(value=13, descriptio…"
            ]
          },
          "metadata": {
            "tags": []
          }
        },
        {
          "output_type": "stream",
          "text": [
            "Time of flight = 2.2870874995874626 s\n",
            "Range = 21.0237960416286 m\n",
            "Max height = 34.0 m\n"
          ],
          "name": "stdout"
        },
        {
          "output_type": "display_data",
          "data": {
            "image/png": "[encoded data removed]",
            "text/plain": [
              "<Figure size 432x288 with 1 Axes>"
            ]
          },
          "metadata": {
            "tags": [],
            "needs_background": "light"
          }
        }
      ]
    }
  ]
}