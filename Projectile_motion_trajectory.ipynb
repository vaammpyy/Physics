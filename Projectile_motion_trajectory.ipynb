{
  "nbformat": 4,
  "nbformat_minor": 0,
  "metadata": {
    "colab": {
      "name": "Projectile_motion_trajectory.ipynb",
      "provenance": [],
      "collapsed_sections": [],
      "authorship_tag": "ABX9TyPfM5XL5hh613BtRd08/q4v",
      "include_colab_link": true
    },
    "kernelspec": {
      "name": "python3",
      "display_name": "Python 3"
    },
    "widgets": {
      "application/vnd.jupyter.widget-state+json": {
        "097acec57adc4482a665e6ce288cbee8": {
          "model_module": "@jupyter-widgets/controls",
          "model_name": "VBoxModel",
          "state": {
            "_view_name": "VBoxView",
            "_dom_classes": [
              "widget-interact"
            ],
            "_model_name": "VBoxModel",
            "_view_module": "@jupyter-widgets/controls",
            "_model_module_version": "1.5.0",
            "_view_count": null,
            "_view_module_version": "1.5.0",
            "box_style": "",
            "layout": "IPY_MODEL_14157c7563b74953801dd07de53d107c",
            "_model_module": "@jupyter-widgets/controls",
            "children": [
              "IPY_MODEL_1bcc45c11abd4192ad58dc6a4d6776a1",
              "IPY_MODEL_9feee197a727458bb2fd787c5db7887e",
              "IPY_MODEL_7e77c6264b3d45d6b3a8dd64bdf8464c",
              "IPY_MODEL_ce3e13d881b04feb8b001b053c7600f8",
              "IPY_MODEL_3f2f8582e91d494085d319ab3a8548e0"
            ]
          }
        },
        "14157c7563b74953801dd07de53d107c": {
          "model_module": "@jupyter-widgets/base",
          "model_name": "LayoutModel",
          "state": {
            "_view_name": "LayoutView",
            "grid_template_rows": null,
            "right": null,
            "justify_content": null,
            "_view_module": "@jupyter-widgets/base",
            "overflow": null,
            "_model_module_version": "1.2.0",
            "_view_count": null,
            "flex_flow": null,
            "width": null,
            "min_width": null,
            "border": null,
            "align_items": null,
            "bottom": null,
            "_model_module": "@jupyter-widgets/base",
            "top": null,
            "grid_column": null,
            "overflow_y": null,
            "overflow_x": null,
            "grid_auto_flow": null,
            "grid_area": null,
            "grid_template_columns": null,
            "flex": null,
            "_model_name": "LayoutModel",
            "justify_items": null,
            "grid_row": null,
            "max_height": null,
            "align_content": null,
            "visibility": null,
            "align_self": null,
            "height": null,
            "min_height": null,
            "padding": null,
            "grid_auto_rows": null,
            "grid_gap": null,
            "max_width": null,
            "order": null,
            "_view_module_version": "1.2.0",
            "grid_template_areas": null,
            "object_position": null,
            "object_fit": null,
            "grid_auto_columns": null,
            "margin": null,
            "display": null,
            "left": null
          }
        },
        "1bcc45c11abd4192ad58dc6a4d6776a1": {
          "model_module": "@jupyter-widgets/controls",
          "model_name": "IntSliderModel",
          "state": {
            "_view_name": "IntSliderView",
            "style": "IPY_MODEL_7797635a649442259ee3e881038ad8b1",
            "_dom_classes": [],
            "description": "theta",
            "step": 1,
            "_model_name": "IntSliderModel",
            "orientation": "horizontal",
            "max": 90,
            "_view_module": "@jupyter-widgets/controls",
            "_model_module_version": "1.5.0",
            "value": 0,
            "_view_count": null,
            "disabled": false,
            "_view_module_version": "1.5.0",
            "min": -90,
            "continuous_update": true,
            "readout_format": "d",
            "description_tooltip": null,
            "readout": true,
            "_model_module": "@jupyter-widgets/controls",
            "layout": "IPY_MODEL_f6646dad3610418a8ec1204cba1ecbea"
          }
        },
        "9feee197a727458bb2fd787c5db7887e": {
          "model_module": "@jupyter-widgets/controls",
          "model_name": "IntSliderModel",
          "state": {
            "_view_name": "IntSliderView",
            "style": "IPY_MODEL_5bd72a2d20ea4a89bf764349d28aaac3",
            "_dom_classes": [],
            "description": "velo",
            "step": 1,
            "_model_name": "IntSliderModel",
            "orientation": "horizontal",
            "max": 25,
            "_view_module": "@jupyter-widgets/controls",
            "_model_module_version": "1.5.0",
            "value": 13,
            "_view_count": null,
            "disabled": false,
            "_view_module_version": "1.5.0",
            "min": 1,
            "continuous_update": true,
            "readout_format": "d",
            "description_tooltip": null,
            "readout": true,
            "_model_module": "@jupyter-widgets/controls",
            "layout": "IPY_MODEL_ffc99d4c05554cc08196913271f7bcd4"
          }
        },
        "7e77c6264b3d45d6b3a8dd64bdf8464c": {
          "model_module": "@jupyter-widgets/controls",
          "model_name": "IntSliderModel",
          "state": {
            "_view_name": "IntSliderView",
            "style": "IPY_MODEL_4296cc44aaab4e21914532d66c3764fb",
            "_dom_classes": [],
            "description": "height",
            "step": 1,
            "_model_name": "IntSliderModel",
            "orientation": "horizontal",
            "max": 50,
            "_view_module": "@jupyter-widgets/controls",
            "_model_module_version": "1.5.0",
            "value": 25,
            "_view_count": null,
            "disabled": false,
            "_view_module_version": "1.5.0",
            "min": 0,
            "continuous_update": true,
            "readout_format": "d",
            "description_tooltip": null,
            "readout": true,
            "_model_module": "@jupyter-widgets/controls",
            "layout": "IPY_MODEL_af5390716c2b4ddba210175df6d798f3"
          }
        },
        "ce3e13d881b04feb8b001b053c7600f8": {
          "model_module": "@jupyter-widgets/controls",
          "model_name": "IntSliderModel",
          "state": {
            "_view_name": "IntSliderView",
            "style": "IPY_MODEL_186ac86ce5204774908a408dac4fb231",
            "_dom_classes": [],
            "description": "acceleration",
            "step": 1,
            "_model_name": "IntSliderModel",
            "orientation": "horizontal",
            "max": 25,
            "_view_module": "@jupyter-widgets/controls",
            "_model_module_version": "1.5.0",
            "value": 13,
            "_view_count": null,
            "disabled": false,
            "_view_module_version": "1.5.0",
            "min": 1,
            "continuous_update": true,
            "readout_format": "d",
            "description_tooltip": null,
            "readout": true,
            "_model_module": "@jupyter-widgets/controls",
            "layout": "IPY_MODEL_c4e5f0f790dd4bf3af85b8d190808ea3"
          }
        },
        "3f2f8582e91d494085d319ab3a8548e0": {
          "model_module": "@jupyter-widgets/output",
          "model_name": "OutputModel",
          "state": {
            "_view_name": "OutputView",
            "msg_id": "",
            "_dom_classes": [],
            "_model_name": "OutputModel",
            "outputs": [
              {
                "output_type": "stream",
                "metadata": {
                  "tags": []
                },
                "text": "Time of flight = 1.9611613513818402 s\nRange = 25.4950975679639 m\nMax height = 25.0 m\n",
                "stream": "stdout"
              },
              {
                "output_type": "display_data",
                "metadata": {
                  "tags": [],
                  "needs_background": "light"
                },
                "image/png": "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\n",
                "text/plain": "<Figure size 432x288 with 1 Axes>"
              }
            ],
            "_view_module": "@jupyter-widgets/output",
            "_model_module_version": "1.0.0",
            "_view_count": null,
            "_view_module_version": "1.0.0",
            "layout": "IPY_MODEL_8acb5b98fb474e9b84bf1742d52764fc",
            "_model_module": "@jupyter-widgets/output"
          }
        },
        "7797635a649442259ee3e881038ad8b1": {
          "model_module": "@jupyter-widgets/controls",
          "model_name": "SliderStyleModel",
          "state": {
            "_view_name": "StyleView",
            "handle_color": null,
            "_model_name": "SliderStyleModel",
            "description_width": "",
            "_view_module": "@jupyter-widgets/base",
            "_model_module_version": "1.5.0",
            "_view_count": null,
            "_view_module_version": "1.2.0",
            "_model_module": "@jupyter-widgets/controls"
          }
        },
        "f6646dad3610418a8ec1204cba1ecbea": {
          "model_module": "@jupyter-widgets/base",
          "model_name": "LayoutModel",
          "state": {
            "_view_name": "LayoutView",
            "grid_template_rows": null,
            "right": null,
            "justify_content": null,
            "_view_module": "@jupyter-widgets/base",
            "overflow": null,
            "_model_module_version": "1.2.0",
            "_view_count": null,
            "flex_flow": null,
            "width": null,
            "min_width": null,
            "border": null,
            "align_items": null,
            "bottom": null,
            "_model_module": "@jupyter-widgets/base",
            "top": null,
            "grid_column": null,
            "overflow_y": null,
            "overflow_x": null,
            "grid_auto_flow": null,
            "grid_area": null,
            "grid_template_columns": null,
            "flex": null,
            "_model_name": "LayoutModel",
            "justify_items": null,
            "grid_row": null,
            "max_height": null,
            "align_content": null,
            "visibility": null,
            "align_self": null,
            "height": null,
            "min_height": null,
            "padding": null,
            "grid_auto_rows": null,
            "grid_gap": null,
            "max_width": null,
            "order": null,
            "_view_module_version": "1.2.0",
            "grid_template_areas": null,
            "object_position": null,
            "object_fit": null,
            "grid_auto_columns": null,
            "margin": null,
            "display": null,
            "left": null
          }
        },
        "5bd72a2d20ea4a89bf764349d28aaac3": {
          "model_module": "@jupyter-widgets/controls",
          "model_name": "SliderStyleModel",
          "state": {
            "_view_name": "StyleView",
            "handle_color": null,
            "_model_name": "SliderStyleModel",
            "description_width": "",
            "_view_module": "@jupyter-widgets/base",
            "_model_module_version": "1.5.0",
            "_view_count": null,
            "_view_module_version": "1.2.0",
            "_model_module": "@jupyter-widgets/controls"
          }
        },
        "ffc99d4c05554cc08196913271f7bcd4": {
          "model_module": "@jupyter-widgets/base",
          "model_name": "LayoutModel",
          "state": {
            "_view_name": "LayoutView",
            "grid_template_rows": null,
            "right": null,
            "justify_content": null,
            "_view_module": "@jupyter-widgets/base",
            "overflow": null,
            "_model_module_version": "1.2.0",
            "_view_count": null,
            "flex_flow": null,
            "width": null,
            "min_width": null,
            "border": null,
            "align_items": null,
            "bottom": null,
            "_model_module": "@jupyter-widgets/base",
            "top": null,
            "grid_column": null,
            "overflow_y": null,
            "overflow_x": null,
            "grid_auto_flow": null,
            "grid_area": null,
            "grid_template_columns": null,
            "flex": null,
            "_model_name": "LayoutModel",
            "justify_items": null,
            "grid_row": null,
            "max_height": null,
            "align_content": null,
            "visibility": null,
            "align_self": null,
            "height": null,
            "min_height": null,
            "padding": null,
            "grid_auto_rows": null,
            "grid_gap": null,
            "max_width": null,
            "order": null,
            "_view_module_version": "1.2.0",
            "grid_template_areas": null,
            "object_position": null,
            "object_fit": null,
            "grid_auto_columns": null,
            "margin": null,
            "display": null,
            "left": null
          }
        },
        "4296cc44aaab4e21914532d66c3764fb": {
          "model_module": "@jupyter-widgets/controls",
          "model_name": "SliderStyleModel",
          "state": {
            "_view_name": "StyleView",
            "handle_color": null,
            "_model_name": "SliderStyleModel",
            "description_width": "",
            "_view_module": "@jupyter-widgets/base",
            "_model_module_version": "1.5.0",
            "_view_count": null,
            "_view_module_version": "1.2.0",
            "_model_module": "@jupyter-widgets/controls"
          }
        },
        "af5390716c2b4ddba210175df6d798f3": {
          "model_module": "@jupyter-widgets/base",
          "model_name": "LayoutModel",
          "state": {
            "_view_name": "LayoutView",
            "grid_template_rows": null,
            "right": null,
            "justify_content": null,
            "_view_module": "@jupyter-widgets/base",
            "overflow": null,
            "_model_module_version": "1.2.0",
            "_view_count": null,
            "flex_flow": null,
            "width": null,
            "min_width": null,
            "border": null,
            "align_items": null,
            "bottom": null,
            "_model_module": "@jupyter-widgets/base",
            "top": null,
            "grid_column": null,
            "overflow_y": null,
            "overflow_x": null,
            "grid_auto_flow": null,
            "grid_area": null,
            "grid_template_columns": null,
            "flex": null,
            "_model_name": "LayoutModel",
            "justify_items": null,
            "grid_row": null,
            "max_height": null,
            "align_content": null,
            "visibility": null,
            "align_self": null,
            "height": null,
            "min_height": null,
            "padding": null,
            "grid_auto_rows": null,
            "grid_gap": null,
            "max_width": null,
            "order": null,
            "_view_module_version": "1.2.0",
            "grid_template_areas": null,
            "object_position": null,
            "object_fit": null,
            "grid_auto_columns": null,
            "margin": null,
            "display": null,
            "left": null
          }
        },
        "186ac86ce5204774908a408dac4fb231": {
          "model_module": "@jupyter-widgets/controls",
          "model_name": "SliderStyleModel",
          "state": {
            "_view_name": "StyleView",
            "handle_color": null,
            "_model_name": "SliderStyleModel",
            "description_width": "",
            "_view_module": "@jupyter-widgets/base",
            "_model_module_version": "1.5.0",
            "_view_count": null,
            "_view_module_version": "1.2.0",
            "_model_module": "@jupyter-widgets/controls"
          }
        },
        "c4e5f0f790dd4bf3af85b8d190808ea3": {
          "model_module": "@jupyter-widgets/base",
          "model_name": "LayoutModel",
          "state": {
            "_view_name": "LayoutView",
            "grid_template_rows": null,
            "right": null,
            "justify_content": null,
            "_view_module": "@jupyter-widgets/base",
            "overflow": null,
            "_model_module_version": "1.2.0",
            "_view_count": null,
            "flex_flow": null,
            "width": null,
            "min_width": null,
            "border": null,
            "align_items": null,
            "bottom": null,
            "_model_module": "@jupyter-widgets/base",
            "top": null,
            "grid_column": null,
            "overflow_y": null,
            "overflow_x": null,
            "grid_auto_flow": null,
            "grid_area": null,
            "grid_template_columns": null,
            "flex": null,
            "_model_name": "LayoutModel",
            "justify_items": null,
            "grid_row": null,
            "max_height": null,
            "align_content": null,
            "visibility": null,
            "align_self": null,
            "height": null,
            "min_height": null,
            "padding": null,
            "grid_auto_rows": null,
            "grid_gap": null,
            "max_width": null,
            "order": null,
            "_view_module_version": "1.2.0",
            "grid_template_areas": null,
            "object_position": null,
            "object_fit": null,
            "grid_auto_columns": null,
            "margin": null,
            "display": null,
            "left": null
          }
        },
        "8acb5b98fb474e9b84bf1742d52764fc": {
          "model_module": "@jupyter-widgets/base",
          "model_name": "LayoutModel",
          "state": {
            "_view_name": "LayoutView",
            "grid_template_rows": null,
            "right": null,
            "justify_content": null,
            "_view_module": "@jupyter-widgets/base",
            "overflow": null,
            "_model_module_version": "1.2.0",
            "_view_count": null,
            "flex_flow": null,
            "width": null,
            "min_width": null,
            "border": null,
            "align_items": null,
            "bottom": null,
            "_model_module": "@jupyter-widgets/base",
            "top": null,
            "grid_column": null,
            "overflow_y": null,
            "overflow_x": null,
            "grid_auto_flow": null,
            "grid_area": null,
            "grid_template_columns": null,
            "flex": null,
            "_model_name": "LayoutModel",
            "justify_items": null,
            "grid_row": null,
            "max_height": null,
            "align_content": null,
            "visibility": null,
            "align_self": null,
            "height": null,
            "min_height": null,
            "padding": null,
            "grid_auto_rows": null,
            "grid_gap": null,
            "max_width": null,
            "order": null,
            "_view_module_version": "1.2.0",
            "grid_template_areas": null,
            "object_position": null,
            "object_fit": null,
            "grid_auto_columns": null,
            "margin": null,
            "display": null,
            "left": null
          }
        }
      }
    }
  },
  "cells": [
    {
      "cell_type": "markdown",
      "metadata": {
        "id": "view-in-github",
        "colab_type": "text"
      },
      "source": [
        "<a href=\"https://colab.research.google.com/github/vaammpyy/Physics_with_python/blob/main/Projectile_motion_trajectory.ipynb\" target=\"_parent\"><img src=\"https://colab.research.google.com/assets/colab-badge.svg\" alt=\"Open In Colab\"/></a>"
      ]
    },
    {
      "cell_type": "code",
      "metadata": {
        "id": "hn4-gobLdcHP"
      },
      "source": [
        "import matplotlib.pyplot as plt\r\n",
        "import numpy as np\r\n",
        "from ipywidgets import interactive\r\n",
        "import sympy as sp\r\n",
        "import math"
      ],
      "execution_count": 37,
      "outputs": []
    },
    {
      "cell_type": "code",
      "metadata": {
        "id": "D4VUIJfZhBWX"
      },
      "source": [
        "def plotter(x,f,xlim,ytop):\r\n",
        "  plt.plot(x,f,'r')\r\n",
        "  plt.grid()\r\n",
        "  plt.legend([\"Trajectory\"])\r\n",
        "  plt.ylabel(\"Height in m\")\r\n",
        "  plt.xlabel(\"Range in m\")\r\n",
        "  plt.ylim(top=ytop,bottom=0)\r\n",
        "  plt.xlim(0,xlim)\r\n",
        "  plt.show()"
      ],
      "execution_count": 38,
      "outputs": []
    },
    {
      "cell_type": "code",
      "metadata": {
        "id": "D8xbuGhKimhw"
      },
      "source": [
        "def trajectory(theta,velo,height,acceleration):\n",
        "  theta=theta*np.pi/180\n",
        "  u=velo\n",
        "  h=height\n",
        "  accel=acceleration\n",
        "  xlim=0\n",
        "  d= sp.Symbol('d')\n",
        "  k=d*np.tan(theta)-accel*d**2/(2*u**2*(np.cos(theta))**2)+h\n",
        "  m=sp.solve(k)\n",
        "  if len(m)==2:\n",
        "    if m[1]>1:\n",
        "       xlim=np.ceil(m[1])\n",
        "    else:\n",
        "       y=round(m[1],3)\n",
        "       xlim=y+0.01*y\n",
        "  else:\n",
        "    xlim=np.ceil(m[0])\n",
        "  x=np.linspace(0,1.1*xlim,100)\n",
        "  f=lambda theta,u,h,accel:x*np.tan(theta)-accel*x**2/(2*u**2*(np.cos(theta))**2)+h\n",
        "  t=(u*np.sin(theta)+np.sqrt((u*np.sin(theta))**2+2*accel*h))/accel\n",
        "  if theta>=0:\n",
        "      h_max=(u*np.sin(theta))**2/(2*accel)+h\n",
        "  else:\n",
        "      h_max=h+0.0\n",
        "  print(\"Time of flight =\",t,'s')\n",
        "  if len(m)==2:\n",
        "     print(\"Range =\",m[1],'m')\n",
        "  else:\n",
        "     print(\"Range =\",m[0],'m')\n",
        "  print(\"Max height =\",h_max,'m')\n",
        "  ylim=h_max+0.1*h_max\n",
        "  plotter(x,f(theta,u,h,accel),xlim,ylim)"
      ],
      "execution_count": 39,
      "outputs": []
    },
    {
      "cell_type": "code",
      "metadata": {
        "colab": {
          "base_uri": "https://localhost:8080/",
          "height": 458,
          "referenced_widgets": [
            "097acec57adc4482a665e6ce288cbee8",
            "14157c7563b74953801dd07de53d107c",
            "1bcc45c11abd4192ad58dc6a4d6776a1",
            "9feee197a727458bb2fd787c5db7887e",
            "7e77c6264b3d45d6b3a8dd64bdf8464c",
            "ce3e13d881b04feb8b001b053c7600f8",
            "3f2f8582e91d494085d319ab3a8548e0",
            "7797635a649442259ee3e881038ad8b1",
            "f6646dad3610418a8ec1204cba1ecbea",
            "5bd72a2d20ea4a89bf764349d28aaac3",
            "ffc99d4c05554cc08196913271f7bcd4",
            "4296cc44aaab4e21914532d66c3764fb",
            "af5390716c2b4ddba210175df6d798f3",
            "186ac86ce5204774908a408dac4fb231",
            "c4e5f0f790dd4bf3af85b8d190808ea3",
            "8acb5b98fb474e9b84bf1742d52764fc"
          ]
        },
        "id": "E9gMCE4Vo7M6",
        "outputId": "c8aceda6-7694-4a7a-d863-17705a949cfa"
      },
      "source": [
        "iplot=interactive(trajectory,\r\n",
        "                  theta=(-90,90,1),\r\n",
        "                  velo=(1,25,1),\r\n",
        "                  height=(0,50,1),\r\n",
        "                  acceleration=(1,25,1))\r\n",
        "iplot"
      ],
      "execution_count": 40,
      "outputs": [
        {
          "output_type": "display_data",
          "data": {
            "application/vnd.jupyter.widget-view+json": {
              "model_id": "097acec57adc4482a665e6ce288cbee8",
              "version_minor": 0,
              "version_major": 2
            },
            "text/plain": [
              "interactive(children=(IntSlider(value=0, description='theta', max=90, min=-90), IntSlider(value=13, descriptio…"
            ]
          },
          "metadata": {
            "tags": []
          }
        }
      ]
    }
  ]
}