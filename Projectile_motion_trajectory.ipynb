{
  "nbformat": 4,
  "nbformat_minor": 0,
  "metadata": {
    "colab": {
      "name": "Projectile_motion_trajectory.ipynb",
      "provenance": [],
      "collapsed_sections": [],
      "authorship_tag": "ABX9TyPSgM9rc3iBYwysPzrZ3Vun",
      "include_colab_link": true
    },
    "kernelspec": {
      "name": "python3",
      "display_name": "Python 3"
    }
  },
  "cells": [
    {
      "cell_type": "markdown",
      "metadata": {
        "id": "view-in-github",
        "colab_type": "text"
      },
      "source": [
        "<a href=\"https://colab.research.google.com/github/vaammpyy/Physics_with_python/blob/main/Projectile_motion_trajectory.ipynb\" target=\"_parent\"><img src=\"https://colab.research.google.com/assets/colab-badge.svg\" alt=\"Open In Colab\"/></a>"
      ]
    },
    {
      "cell_type": "code",
      "metadata": {
        "id": "hn4-gobLdcHP"
      },
      "source": [
        "import matplotlib.pyplot as plt\r\n",
        "import numpy as np\r\n",
        "from ipywidgets import interactive\r\n",
        "import sympy as sp"
      ],
      "execution_count": 9,
      "outputs": []
    },
    {
      "cell_type": "code",
      "metadata": {
        "id": "D4VUIJfZhBWX"
      },
      "source": [
        "def plotter(x,f,xlim):\r\n",
        "  plt.plot(x,f,'r')\r\n",
        "  plt.grid()\r\n",
        "  plt.legend([\"Trajectory\"])\r\n",
        "  plt.ylabel(\"Height in m\")\r\n",
        "  plt.xlabel(\"Range in m\")\r\n",
        "  plt.ylim(bottom=0)\r\n",
        "  plt.xlim(0,xlim)\r\n",
        "  plt.show()"
      ],
      "execution_count": 10,
      "outputs": []
    },
    {
      "cell_type": "code",
      "metadata": {
        "id": "D8xbuGhKimhw"
      },
      "source": [
        "def trajectory(theta,velo,height,acceleration):\r\n",
        "  theta=theta*np.pi/180\r\n",
        "  u=velo\r\n",
        "  h=height\r\n",
        "  accel=acceleration\r\n",
        "  xlim=0\r\n",
        "  d= sp.Symbol('d')\r\n",
        "  k=d*np.tan(theta)-accel*d**2/(u**2*(np.cos(theta))**2)+h\r\n",
        "  m=sp.solve(k)\r\n",
        "  if len(m)==2:\r\n",
        "    xlim=np.ceil(m[1])\r\n",
        "  else:\r\n",
        "    xlim=np.ceil(m[0])\r\n",
        "  x=np.linspace(0,10+xlim,50)\r\n",
        "  f=lambda theta,u,h,accel:x*np.tan(theta)-accel*x**2/(u**2*(np.cos(theta))**2)+h\r\n",
        "  t=(u*np.sin(theta)+np.sqrt((u*np.sin(theta))**2+2*accel*h))/accel\r\n",
        "  h_max=(u*np.sin(theta))**2/(2*accel)+h\r\n",
        "  print(\"Time of flight =\",t,'s')\r\n",
        "  if len(m)==2:\r\n",
        "     print(\"Range =\",m[1],'m')\r\n",
        "  else:\r\n",
        "     print(\"Range =\",m[0],'m')\r\n",
        "  print(\"Max height =\",h_max,'m')\r\n",
        "  plotter(x,f(theta,u,h,accel),xlim)\r\n",
        "\r\n"
      ],
      "execution_count": 11,
      "outputs": []
    },
    {
      "cell_type": "code",
      "metadata": {
        "id": "E9gMCE4Vo7M6"
      },
      "source": [
        "iplot=interactive(trajectory,\r\n",
        "                  theta=(-90,90,1),\r\n",
        "                  velo=(1,25,1),\r\n",
        "                  height=(0,50,1),\r\n",
        "                  acceleration=(1,25,1)\r\n",
        "                  )\r\n",
        "iplot"
      ],
      "execution_count": null,
      "outputs": []
    }
  ]
}