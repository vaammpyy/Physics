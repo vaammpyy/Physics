{
  "nbformat": 4,
  "nbformat_minor": 0,
  "metadata": {
    "colab": {
      "name": "Projectile_motion_trajectory.ipynb",
      "provenance": [],
      "collapsed_sections": [],
      "authorship_tag": "ABX9TyPAu96gNFsyho/7ipog6c1w",
      "include_colab_link": true
    },
    "kernelspec": {
      "name": "python3",
      "display_name": "Python 3"
    },
    "widgets": {
      "application/vnd.jupyter.widget-state+json": {
        "82292ec7ef5b42879d18f5fcd1c9a5f1": {
          "model_module": "@jupyter-widgets/controls",
          "model_name": "VBoxModel",
          "state": {
            "_view_name": "VBoxView",
            "_dom_classes": [
              "widget-interact"
            ],
            "_model_name": "VBoxModel",
            "_view_module": "@jupyter-widgets/controls",
            "_model_module_version": "1.5.0",
            "_view_count": null,
            "_view_module_version": "1.5.0",
            "box_style": "",
            "layout": "IPY_MODEL_17b965cdd1f74d2da1441df6b9882919",
            "_model_module": "@jupyter-widgets/controls",
            "children": [
              "IPY_MODEL_5ed3f6f7dd0749c18c3e7439202c1341",
              "IPY_MODEL_02cd8a3a63e2447f8561509edd639a6a",
              "IPY_MODEL_f130e2fbfaf343bb8d4f5b7f2e27ecfd",
              "IPY_MODEL_2a4a1900ef8a49c9853366d43f86649c",
              "IPY_MODEL_270ca6f23cc34c308c247f285725b2b7"
            ]
          }
        },
        "17b965cdd1f74d2da1441df6b9882919": {
          "model_module": "@jupyter-widgets/base",
          "model_name": "LayoutModel",
          "state": {
            "_view_name": "LayoutView",
            "grid_template_rows": null,
            "right": null,
            "justify_content": null,
            "_view_module": "@jupyter-widgets/base",
            "overflow": null,
            "_model_module_version": "1.2.0",
            "_view_count": null,
            "flex_flow": null,
            "width": null,
            "min_width": null,
            "border": null,
            "align_items": null,
            "bottom": null,
            "_model_module": "@jupyter-widgets/base",
            "top": null,
            "grid_column": null,
            "overflow_y": null,
            "overflow_x": null,
            "grid_auto_flow": null,
            "grid_area": null,
            "grid_template_columns": null,
            "flex": null,
            "_model_name": "LayoutModel",
            "justify_items": null,
            "grid_row": null,
            "max_height": null,
            "align_content": null,
            "visibility": null,
            "align_self": null,
            "height": null,
            "min_height": null,
            "padding": null,
            "grid_auto_rows": null,
            "grid_gap": null,
            "max_width": null,
            "order": null,
            "_view_module_version": "1.2.0",
            "grid_template_areas": null,
            "object_position": null,
            "object_fit": null,
            "grid_auto_columns": null,
            "margin": null,
            "display": null,
            "left": null
          }
        },
        "5ed3f6f7dd0749c18c3e7439202c1341": {
          "model_module": "@jupyter-widgets/controls",
          "model_name": "IntSliderModel",
          "state": {
            "_view_name": "IntSliderView",
            "style": "IPY_MODEL_e4f7282958b44825af691e604204209d",
            "_dom_classes": [],
            "description": "theta",
            "step": 1,
            "_model_name": "IntSliderModel",
            "orientation": "horizontal",
            "max": 90,
            "_view_module": "@jupyter-widgets/controls",
            "_model_module_version": "1.5.0",
            "value": 0,
            "_view_count": null,
            "disabled": false,
            "_view_module_version": "1.5.0",
            "min": -90,
            "continuous_update": true,
            "readout_format": "d",
            "description_tooltip": null,
            "readout": true,
            "_model_module": "@jupyter-widgets/controls",
            "layout": "IPY_MODEL_51055caa6638405794b14131c06e8bc5"
          }
        },
        "02cd8a3a63e2447f8561509edd639a6a": {
          "model_module": "@jupyter-widgets/controls",
          "model_name": "IntSliderModel",
          "state": {
            "_view_name": "IntSliderView",
            "style": "IPY_MODEL_14e6639ba41e471ebebb7e284b5e46ea",
            "_dom_classes": [],
            "description": "velo",
            "step": 1,
            "_model_name": "IntSliderModel",
            "orientation": "horizontal",
            "max": 25,
            "_view_module": "@jupyter-widgets/controls",
            "_model_module_version": "1.5.0",
            "value": 13,
            "_view_count": null,
            "disabled": false,
            "_view_module_version": "1.5.0",
            "min": 1,
            "continuous_update": true,
            "readout_format": "d",
            "description_tooltip": null,
            "readout": true,
            "_model_module": "@jupyter-widgets/controls",
            "layout": "IPY_MODEL_4459e61a26dc4d8c8dc2f16af724db43"
          }
        },
        "f130e2fbfaf343bb8d4f5b7f2e27ecfd": {
          "model_module": "@jupyter-widgets/controls",
          "model_name": "IntSliderModel",
          "state": {
            "_view_name": "IntSliderView",
            "style": "IPY_MODEL_2e3abe601c814c04bc9daba414dc7135",
            "_dom_classes": [],
            "description": "height",
            "step": 1,
            "_model_name": "IntSliderModel",
            "orientation": "horizontal",
            "max": 50,
            "_view_module": "@jupyter-widgets/controls",
            "_model_module_version": "1.5.0",
            "value": 25,
            "_view_count": null,
            "disabled": false,
            "_view_module_version": "1.5.0",
            "min": 0,
            "continuous_update": true,
            "readout_format": "d",
            "description_tooltip": null,
            "readout": true,
            "_model_module": "@jupyter-widgets/controls",
            "layout": "IPY_MODEL_f70438f149a4481da843ffde9805a1d3"
          }
        },
        "2a4a1900ef8a49c9853366d43f86649c": {
          "model_module": "@jupyter-widgets/controls",
          "model_name": "IntSliderModel",
          "state": {
            "_view_name": "IntSliderView",
            "style": "IPY_MODEL_0ccc78f504474d5bae6427a56e7a137d",
            "_dom_classes": [],
            "description": "acceleration",
            "step": 1,
            "_model_name": "IntSliderModel",
            "orientation": "horizontal",
            "max": 25,
            "_view_module": "@jupyter-widgets/controls",
            "_model_module_version": "1.5.0",
            "value": 13,
            "_view_count": null,
            "disabled": false,
            "_view_module_version": "1.5.0",
            "min": 1,
            "continuous_update": true,
            "readout_format": "d",
            "description_tooltip": null,
            "readout": true,
            "_model_module": "@jupyter-widgets/controls",
            "layout": "IPY_MODEL_2e14ded8171e4c5b909511829154f6ba"
          }
        },
        "270ca6f23cc34c308c247f285725b2b7": {
          "model_module": "@jupyter-widgets/output",
          "model_name": "OutputModel",
          "state": {
            "_view_name": "OutputView",
            "msg_id": "",
            "_dom_classes": [],
            "_model_name": "OutputModel",
            "outputs": [
              {
                "output_type": "stream",
                "metadata": {
                  "tags": []
                },
                "text": "Time of flight = 0.0 s\nRange = 18.0277563773199 m\nMax height = 25.0 m\n",
                "stream": "stdout"
              },
              {
                "output_type": "display_data",
                "metadata": {
                  "tags": [],
                  "needs_background": "light"
                },
                "image/png": "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\n",
                "text/plain": "<Figure size 432x288 with 1 Axes>"
              }
            ],
            "_view_module": "@jupyter-widgets/output",
            "_model_module_version": "1.0.0",
            "_view_count": null,
            "_view_module_version": "1.0.0",
            "layout": "IPY_MODEL_898d4ef4fdf244bcb34f7c78fdd3ca8b",
            "_model_module": "@jupyter-widgets/output"
          }
        },
        "e4f7282958b44825af691e604204209d": {
          "model_module": "@jupyter-widgets/controls",
          "model_name": "SliderStyleModel",
          "state": {
            "_view_name": "StyleView",
            "handle_color": null,
            "_model_name": "SliderStyleModel",
            "description_width": "",
            "_view_module": "@jupyter-widgets/base",
            "_model_module_version": "1.5.0",
            "_view_count": null,
            "_view_module_version": "1.2.0",
            "_model_module": "@jupyter-widgets/controls"
          }
        },
        "51055caa6638405794b14131c06e8bc5": {
          "model_module": "@jupyter-widgets/base",
          "model_name": "LayoutModel",
          "state": {
            "_view_name": "LayoutView",
            "grid_template_rows": null,
            "right": null,
            "justify_content": null,
            "_view_module": "@jupyter-widgets/base",
            "overflow": null,
            "_model_module_version": "1.2.0",
            "_view_count": null,
            "flex_flow": null,
            "width": null,
            "min_width": null,
            "border": null,
            "align_items": null,
            "bottom": null,
            "_model_module": "@jupyter-widgets/base",
            "top": null,
            "grid_column": null,
            "overflow_y": null,
            "overflow_x": null,
            "grid_auto_flow": null,
            "grid_area": null,
            "grid_template_columns": null,
            "flex": null,
            "_model_name": "LayoutModel",
            "justify_items": null,
            "grid_row": null,
            "max_height": null,
            "align_content": null,
            "visibility": null,
            "align_self": null,
            "height": null,
            "min_height": null,
            "padding": null,
            "grid_auto_rows": null,
            "grid_gap": null,
            "max_width": null,
            "order": null,
            "_view_module_version": "1.2.0",
            "grid_template_areas": null,
            "object_position": null,
            "object_fit": null,
            "grid_auto_columns": null,
            "margin": null,
            "display": null,
            "left": null
          }
        },
        "14e6639ba41e471ebebb7e284b5e46ea": {
          "model_module": "@jupyter-widgets/controls",
          "model_name": "SliderStyleModel",
          "state": {
            "_view_name": "StyleView",
            "handle_color": null,
            "_model_name": "SliderStyleModel",
            "description_width": "",
            "_view_module": "@jupyter-widgets/base",
            "_model_module_version": "1.5.0",
            "_view_count": null,
            "_view_module_version": "1.2.0",
            "_model_module": "@jupyter-widgets/controls"
          }
        },
        "4459e61a26dc4d8c8dc2f16af724db43": {
          "model_module": "@jupyter-widgets/base",
          "model_name": "LayoutModel",
          "state": {
            "_view_name": "LayoutView",
            "grid_template_rows": null,
            "right": null,
            "justify_content": null,
            "_view_module": "@jupyter-widgets/base",
            "overflow": null,
            "_model_module_version": "1.2.0",
            "_view_count": null,
            "flex_flow": null,
            "width": null,
            "min_width": null,
            "border": null,
            "align_items": null,
            "bottom": null,
            "_model_module": "@jupyter-widgets/base",
            "top": null,
            "grid_column": null,
            "overflow_y": null,
            "overflow_x": null,
            "grid_auto_flow": null,
            "grid_area": null,
            "grid_template_columns": null,
            "flex": null,
            "_model_name": "LayoutModel",
            "justify_items": null,
            "grid_row": null,
            "max_height": null,
            "align_content": null,
            "visibility": null,
            "align_self": null,
            "height": null,
            "min_height": null,
            "padding": null,
            "grid_auto_rows": null,
            "grid_gap": null,
            "max_width": null,
            "order": null,
            "_view_module_version": "1.2.0",
            "grid_template_areas": null,
            "object_position": null,
            "object_fit": null,
            "grid_auto_columns": null,
            "margin": null,
            "display": null,
            "left": null
          }
        },
        "2e3abe601c814c04bc9daba414dc7135": {
          "model_module": "@jupyter-widgets/controls",
          "model_name": "SliderStyleModel",
          "state": {
            "_view_name": "StyleView",
            "handle_color": null,
            "_model_name": "SliderStyleModel",
            "description_width": "",
            "_view_module": "@jupyter-widgets/base",
            "_model_module_version": "1.5.0",
            "_view_count": null,
            "_view_module_version": "1.2.0",
            "_model_module": "@jupyter-widgets/controls"
          }
        },
        "f70438f149a4481da843ffde9805a1d3": {
          "model_module": "@jupyter-widgets/base",
          "model_name": "LayoutModel",
          "state": {
            "_view_name": "LayoutView",
            "grid_template_rows": null,
            "right": null,
            "justify_content": null,
            "_view_module": "@jupyter-widgets/base",
            "overflow": null,
            "_model_module_version": "1.2.0",
            "_view_count": null,
            "flex_flow": null,
            "width": null,
            "min_width": null,
            "border": null,
            "align_items": null,
            "bottom": null,
            "_model_module": "@jupyter-widgets/base",
            "top": null,
            "grid_column": null,
            "overflow_y": null,
            "overflow_x": null,
            "grid_auto_flow": null,
            "grid_area": null,
            "grid_template_columns": null,
            "flex": null,
            "_model_name": "LayoutModel",
            "justify_items": null,
            "grid_row": null,
            "max_height": null,
            "align_content": null,
            "visibility": null,
            "align_self": null,
            "height": null,
            "min_height": null,
            "padding": null,
            "grid_auto_rows": null,
            "grid_gap": null,
            "max_width": null,
            "order": null,
            "_view_module_version": "1.2.0",
            "grid_template_areas": null,
            "object_position": null,
            "object_fit": null,
            "grid_auto_columns": null,
            "margin": null,
            "display": null,
            "left": null
          }
        },
        "0ccc78f504474d5bae6427a56e7a137d": {
          "model_module": "@jupyter-widgets/controls",
          "model_name": "SliderStyleModel",
          "state": {
            "_view_name": "StyleView",
            "handle_color": null,
            "_model_name": "SliderStyleModel",
            "description_width": "",
            "_view_module": "@jupyter-widgets/base",
            "_model_module_version": "1.5.0",
            "_view_count": null,
            "_view_module_version": "1.2.0",
            "_model_module": "@jupyter-widgets/controls"
          }
        },
        "2e14ded8171e4c5b909511829154f6ba": {
          "model_module": "@jupyter-widgets/base",
          "model_name": "LayoutModel",
          "state": {
            "_view_name": "LayoutView",
            "grid_template_rows": null,
            "right": null,
            "justify_content": null,
            "_view_module": "@jupyter-widgets/base",
            "overflow": null,
            "_model_module_version": "1.2.0",
            "_view_count": null,
            "flex_flow": null,
            "width": null,
            "min_width": null,
            "border": null,
            "align_items": null,
            "bottom": null,
            "_model_module": "@jupyter-widgets/base",
            "top": null,
            "grid_column": null,
            "overflow_y": null,
            "overflow_x": null,
            "grid_auto_flow": null,
            "grid_area": null,
            "grid_template_columns": null,
            "flex": null,
            "_model_name": "LayoutModel",
            "justify_items": null,
            "grid_row": null,
            "max_height": null,
            "align_content": null,
            "visibility": null,
            "align_self": null,
            "height": null,
            "min_height": null,
            "padding": null,
            "grid_auto_rows": null,
            "grid_gap": null,
            "max_width": null,
            "order": null,
            "_view_module_version": "1.2.0",
            "grid_template_areas": null,
            "object_position": null,
            "object_fit": null,
            "grid_auto_columns": null,
            "margin": null,
            "display": null,
            "left": null
          }
        },
        "898d4ef4fdf244bcb34f7c78fdd3ca8b": {
          "model_module": "@jupyter-widgets/base",
          "model_name": "LayoutModel",
          "state": {
            "_view_name": "LayoutView",
            "grid_template_rows": null,
            "right": null,
            "justify_content": null,
            "_view_module": "@jupyter-widgets/base",
            "overflow": null,
            "_model_module_version": "1.2.0",
            "_view_count": null,
            "flex_flow": null,
            "width": null,
            "min_width": null,
            "border": null,
            "align_items": null,
            "bottom": null,
            "_model_module": "@jupyter-widgets/base",
            "top": null,
            "grid_column": null,
            "overflow_y": null,
            "overflow_x": null,
            "grid_auto_flow": null,
            "grid_area": null,
            "grid_template_columns": null,
            "flex": null,
            "_model_name": "LayoutModel",
            "justify_items": null,
            "grid_row": null,
            "max_height": null,
            "align_content": null,
            "visibility": null,
            "align_self": null,
            "height": null,
            "min_height": null,
            "padding": null,
            "grid_auto_rows": null,
            "grid_gap": null,
            "max_width": null,
            "order": null,
            "_view_module_version": "1.2.0",
            "grid_template_areas": null,
            "object_position": null,
            "object_fit": null,
            "grid_auto_columns": null,
            "margin": null,
            "display": null,
            "left": null
          }
        }
      }
    }
  },
  "cells": [
    {
      "cell_type": "markdown",
      "metadata": {
        "id": "view-in-github",
        "colab_type": "text"
      },
      "source": [
        "<a href=\"https://colab.research.google.com/github/vaammpyy/Physics_with_python/blob/main/Projectile_motion_trajectory.ipynb\" target=\"_parent\"><img src=\"https://colab.research.google.com/assets/colab-badge.svg\" alt=\"Open In Colab\"/></a>"
      ]
    },
    {
      "cell_type": "code",
      "metadata": {
        "id": "hn4-gobLdcHP"
      },
      "source": [
        "import matplotlib.pyplot as plt\r\n",
        "import numpy as np\r\n",
        "from ipywidgets import interactive\r\n",
        "import sympy as sp"
      ],
      "execution_count": 162,
      "outputs": []
    },
    {
      "cell_type": "code",
      "metadata": {
        "id": "D4VUIJfZhBWX"
      },
      "source": [
        "def plotter(x,f,xlim):\r\n",
        "  plt.plot(x,f,'r')\r\n",
        "  plt.grid()\r\n",
        "  plt.legend([\"Trajectory\"])\r\n",
        "  plt.ylabel(\"Height in m\")\r\n",
        "  plt.xlabel(\"Range in m\")\r\n",
        "  plt.ylim(bottom=0)\r\n",
        "  plt.xlim(0,xlim)\r\n",
        "  plt.show()"
      ],
      "execution_count": 163,
      "outputs": []
    },
    {
      "cell_type": "code",
      "metadata": {
        "id": "D8xbuGhKimhw"
      },
      "source": [
        "def trajectory(theta,velo,height,acceleration):\r\n",
        "  theta=theta*np.pi/180\r\n",
        "  u=velo\r\n",
        "  h=height\r\n",
        "  accel=acceleration\r\n",
        "  xlim=0\r\n",
        "  d= sp.Symbol('d')\r\n",
        "  k=d*np.tan(theta)-accel*d**2/(u**2*(np.cos(theta))**2)+h\r\n",
        "  m=sp.solve(k)\r\n",
        "  if len(m)==2:\r\n",
        "    xlim=np.ceil(m[1])\r\n",
        "  else:\r\n",
        "    xlim=np.ceil(m[0])\r\n",
        "  x=np.linspace(0,10+xlim,50)\r\n",
        "  f=lambda theta,u,h,accel:x*np.tan(theta)-accel*x**2/(u**2*(np.cos(theta))**2)+h\r\n",
        "  t=u*np.sin(theta)*2/accel\r\n",
        "  h_max=(u*np.sin(theta))**2/(2*accel)+h\r\n",
        "  print(\"Time of flight =\",t,'s')\r\n",
        "  if len(m)==2:\r\n",
        "     print(\"Range =\",m[1],'m')\r\n",
        "  else:\r\n",
        "     print(\"Range =\",m[0],'m')\r\n",
        "  print(\"Max height =\",h_max,'m')\r\n",
        "  plotter(x,f(theta,u,h,accel),xlim)\r\n",
        "\r\n"
      ],
      "execution_count": 164,
      "outputs": []
    },
    {
      "cell_type": "code",
      "metadata": {
        "colab": {
          "base_uri": "https://localhost:8080/",
          "height": 458,
          "referenced_widgets": [
            "82292ec7ef5b42879d18f5fcd1c9a5f1",
            "17b965cdd1f74d2da1441df6b9882919",
            "5ed3f6f7dd0749c18c3e7439202c1341",
            "02cd8a3a63e2447f8561509edd639a6a",
            "f130e2fbfaf343bb8d4f5b7f2e27ecfd",
            "2a4a1900ef8a49c9853366d43f86649c",
            "270ca6f23cc34c308c247f285725b2b7",
            "e4f7282958b44825af691e604204209d",
            "51055caa6638405794b14131c06e8bc5",
            "14e6639ba41e471ebebb7e284b5e46ea",
            "4459e61a26dc4d8c8dc2f16af724db43",
            "2e3abe601c814c04bc9daba414dc7135",
            "f70438f149a4481da843ffde9805a1d3",
            "0ccc78f504474d5bae6427a56e7a137d",
            "2e14ded8171e4c5b909511829154f6ba",
            "898d4ef4fdf244bcb34f7c78fdd3ca8b"
          ]
        },
        "id": "E9gMCE4Vo7M6",
        "outputId": "493320bc-0874-4e43-f413-72adf084f385"
      },
      "source": [
        "iplot=interactive(trajectory,\r\n",
        "                  theta=(-90,90,1),\r\n",
        "                  velo=(1,25,1),\r\n",
        "                  height=(0,50,1),\r\n",
        "                  acceleration=(1,25,1)\r\n",
        "                  )\r\n",
        "iplot"
      ],
      "execution_count": 165,
      "outputs": [
        {
          "output_type": "display_data",
          "data": {
            "application/vnd.jupyter.widget-view+json": {
              "model_id": "82292ec7ef5b42879d18f5fcd1c9a5f1",
              "version_minor": 0,
              "version_major": 2
            },
            "text/plain": [
              "interactive(children=(IntSlider(value=0, description='theta', max=90, min=-90), IntSlider(value=13, descriptio…"
            ]
          },
          "metadata": {
            "tags": []
          }
        }
      ]
    }
  ]
}