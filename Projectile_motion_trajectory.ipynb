{
  "nbformat": 4,
  "nbformat_minor": 0,
  "metadata": {
    "colab": {
      "name": "Projectile_motion_trajectory.ipynb",
      "provenance": [],
      "collapsed_sections": [],
      "authorship_tag": "ABX9TyPLs2ggIlBe3VtP9+5c1NKt",
      "include_colab_link": true
    },
    "kernelspec": {
      "name": "python3",
      "display_name": "Python 3"
    }
  },
  "cells": [
    {
      "cell_type": "markdown",
      "metadata": {
        "id": "view-in-github",
        "colab_type": "text"
      },
      "source": [
        "<a href=\"https://colab.research.google.com/github/vaammpyy/Physics_with_python/blob/main/Projectile_motion_trajectory.ipynb\" target=\"_parent\"><img src=\"https://colab.research.google.com/assets/colab-badge.svg\" alt=\"Open In Colab\"/></a>"
      ]
    },
    {
      "cell_type": "code",
      "metadata": {
        "id": "hn4-gobLdcHP"
      },
      "source": [
        "import matplotlib.pyplot as plt\r\n",
        "import numpy as np\r\n",
        "from ipywidgets import interactive\r\n",
        "import sympy as sp\r\n",
        "import math\r\n",
        "import sys"
      ],
      "execution_count": 8,
      "outputs": []
    },
    {
      "cell_type": "code",
      "metadata": {
        "id": "D4VUIJfZhBWX"
      },
      "source": [
        "def plotter(x,f,xlim,ytop,x_1,y_1):\r\n",
        "  plt.plot(x,f,'r',x_1,y_1,'bo')\r\n",
        "  plt.grid()\r\n",
        "  plt.legend([\"Trajectory\",\"Max height\"])\r\n",
        "  plt.ylabel(\"Height(m)\")\r\n",
        "  plt.xlabel(\"Range(m)\")\r\n",
        "  plt.ylim(top=ytop,bottom=0)\r\n",
        "  plt.xlim(0,xlim)\r\n",
        "  plt.show()"
      ],
      "execution_count": 9,
      "outputs": []
    },
    {
      "cell_type": "code",
      "metadata": {
        "id": "D8xbuGhKimhw"
      },
      "source": [
        "def trajectory(theta,velo,height,acceleration):\n",
        "  theta=theta*np.pi/180\n",
        "  u=velo\n",
        "  h=height\n",
        "  accel=acceleration\n",
        "  xlim=0\n",
        "  d= sp.Symbol('d')\n",
        "  k=d*np.tan(theta)-accel*d**2/(2*u**2*(np.cos(theta))**2)+h\n",
        "  m=sp.solve(k)\n",
        "  if len(m)==2:\n",
        "    if m[1]>1:\n",
        "       xlim=np.ceil(m[1])\n",
        "    else:\n",
        "       y=round(m[1],3)\n",
        "       xlim=y+0.01*y\n",
        "  else:\n",
        "    xlim=np.ceil(m[0])\n",
        "  x=np.linspace(0,1.1*xlim,100)\n",
        "  f=lambda theta,u,h,accel:x*np.tan(theta)-accel*x**2/(2*u**2*(np.cos(theta))**2)+h\n",
        "  t=(u*np.sin(theta)+np.sqrt((u*np.sin(theta))**2+2*accel*h))/accel\n",
        "  x_1=np.tan(theta)*(2*u**2*(np.cos(theta))**2)/(2*accel)\n",
        "  if theta>=0:\n",
        "      h_max=(u*np.sin(theta))**2/(2*accel)+h\n",
        "  else:\n",
        "      h_max=h+0.0\n",
        "  y_1=h_max\n",
        "  print(\"Time of flight =\",t,'s')\n",
        "  if len(m)==2:\n",
        "     print(\"Range =\",m[1],'m')\n",
        "  else:\n",
        "     print(\"Range =\",m[0],'m')\n",
        "  print(\"Max height =\",h_max,'m')\n",
        "  ylim=h_max+0.1*h_max\n",
        "  plotter(x,f(theta,u,h,accel),xlim,ylim,x_1,y_1)"
      ],
      "execution_count": 10,
      "outputs": []
    },
    {
      "cell_type": "code",
      "metadata": {
        "id": "ePrxkxbrRSqI"
      },
      "source": [
        "iplot=interactive(trajectory,\r\n",
        "                    theta=(-90,90,1),\r\n",
        "                    velo=(1,25,1),\r\n",
        "                    height=(0,50,1),\r\n",
        "                    acceleration=(1,25,1))"
      ],
      "execution_count": 11,
      "outputs": []
    },
    {
      "cell_type": "code",
      "metadata": {
        "id": "E9gMCE4Vo7M6"
      },
      "source": [
        "v_1=input(\"Enter 'c'for custom trajectory or press enter for interactive trajectory:\")\r\n",
        "\r\n",
        "if v_1=='c':\r\n",
        "    v_2=float(input(\"Enter angle of projection in degrees:\"))\r\n",
        "    v_3=float(input(\"Enter projection velocity in m/s:\"))\r\n",
        "    v_4=float(input(\"Enter initial elevation in m:\"))\r\n",
        "    v_5=float(input(\"Enter downward acceleration in m/s^2:\"))\r\n",
        "    trajectory(v_2,v_3,v_4,v_5)\r\n",
        "    sys.exit()\r\n",
        "iplot"
      ],
      "execution_count": null,
      "outputs": []
    }
  ]
}