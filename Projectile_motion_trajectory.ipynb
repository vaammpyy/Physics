{
  "nbformat": 4,
  "nbformat_minor": 0,
  "metadata": {
    "colab": {
      "name": "Projectile_motion_trajectory.ipynb",
      "provenance": [],
      "collapsed_sections": [],
      "authorship_tag": "ABX9TyOiXjV+WL+5hIxZlBsI20mK",
      "include_colab_link": true
    },
    "kernelspec": {
      "name": "python3",
      "display_name": "Python 3"
    },
    "widgets": {
      "application/vnd.jupyter.widget-state+json": {
        "854c66e17ecf4d2a84ac21aed5fd84f8": {
          "model_module": "@jupyter-widgets/controls",
          "model_name": "VBoxModel",
          "state": {
            "_view_name": "VBoxView",
            "_dom_classes": [
              "widget-interact"
            ],
            "_model_name": "VBoxModel",
            "_view_module": "@jupyter-widgets/controls",
            "_model_module_version": "1.5.0",
            "_view_count": null,
            "_view_module_version": "1.5.0",
            "box_style": "",
            "layout": "IPY_MODEL_773b1ec1e99149cd94768e06b02e3083",
            "_model_module": "@jupyter-widgets/controls",
            "children": [
              "IPY_MODEL_86ef50fc62144860b25f977a7d043a6e",
              "IPY_MODEL_53bc2c4cb799431aa79bb21669144ad9",
              "IPY_MODEL_25d82b2ad17b454ea81ec3c6f966568a",
              "IPY_MODEL_7d7f22ac50b6492283ec7330d593d55a",
              "IPY_MODEL_888971da953d401eb7f94fdbca1329f0"
            ]
          }
        },
        "773b1ec1e99149cd94768e06b02e3083": {
          "model_module": "@jupyter-widgets/base",
          "model_name": "LayoutModel",
          "state": {
            "_view_name": "LayoutView",
            "grid_template_rows": null,
            "right": null,
            "justify_content": null,
            "_view_module": "@jupyter-widgets/base",
            "overflow": null,
            "_model_module_version": "1.2.0",
            "_view_count": null,
            "flex_flow": null,
            "width": null,
            "min_width": null,
            "border": null,
            "align_items": null,
            "bottom": null,
            "_model_module": "@jupyter-widgets/base",
            "top": null,
            "grid_column": null,
            "overflow_y": null,
            "overflow_x": null,
            "grid_auto_flow": null,
            "grid_area": null,
            "grid_template_columns": null,
            "flex": null,
            "_model_name": "LayoutModel",
            "justify_items": null,
            "grid_row": null,
            "max_height": null,
            "align_content": null,
            "visibility": null,
            "align_self": null,
            "height": null,
            "min_height": null,
            "padding": null,
            "grid_auto_rows": null,
            "grid_gap": null,
            "max_width": null,
            "order": null,
            "_view_module_version": "1.2.0",
            "grid_template_areas": null,
            "object_position": null,
            "object_fit": null,
            "grid_auto_columns": null,
            "margin": null,
            "display": null,
            "left": null
          }
        },
        "86ef50fc62144860b25f977a7d043a6e": {
          "model_module": "@jupyter-widgets/controls",
          "model_name": "IntSliderModel",
          "state": {
            "_view_name": "IntSliderView",
            "style": "IPY_MODEL_d87145ace2b649e19dd621bd04f7dbfa",
            "_dom_classes": [],
            "description": "theta",
            "step": 1,
            "_model_name": "IntSliderModel",
            "orientation": "horizontal",
            "max": 90,
            "_view_module": "@jupyter-widgets/controls",
            "_model_module_version": "1.5.0",
            "value": 15,
            "_view_count": null,
            "disabled": false,
            "_view_module_version": "1.5.0",
            "min": -90,
            "continuous_update": true,
            "readout_format": "d",
            "description_tooltip": null,
            "readout": true,
            "_model_module": "@jupyter-widgets/controls",
            "layout": "IPY_MODEL_d40c2bb6afbe4903bf1d1882715bbe12"
          }
        },
        "53bc2c4cb799431aa79bb21669144ad9": {
          "model_module": "@jupyter-widgets/controls",
          "model_name": "IntSliderModel",
          "state": {
            "_view_name": "IntSliderView",
            "style": "IPY_MODEL_35f6793e78824c47943ef0a882623eb9",
            "_dom_classes": [],
            "description": "velo",
            "step": 1,
            "_model_name": "IntSliderModel",
            "orientation": "horizontal",
            "max": 25,
            "_view_module": "@jupyter-widgets/controls",
            "_model_module_version": "1.5.0",
            "value": 23,
            "_view_count": null,
            "disabled": false,
            "_view_module_version": "1.5.0",
            "min": 1,
            "continuous_update": true,
            "readout_format": "d",
            "description_tooltip": null,
            "readout": true,
            "_model_module": "@jupyter-widgets/controls",
            "layout": "IPY_MODEL_eba4379f5bea42a983f2e07a29e8d9f0"
          }
        },
        "25d82b2ad17b454ea81ec3c6f966568a": {
          "model_module": "@jupyter-widgets/controls",
          "model_name": "IntSliderModel",
          "state": {
            "_view_name": "IntSliderView",
            "style": "IPY_MODEL_4510b93081764760abbb95d047a43942",
            "_dom_classes": [],
            "description": "height",
            "step": 1,
            "_model_name": "IntSliderModel",
            "orientation": "horizontal",
            "max": 50,
            "_view_module": "@jupyter-widgets/controls",
            "_model_module_version": "1.5.0",
            "value": 23,
            "_view_count": null,
            "disabled": false,
            "_view_module_version": "1.5.0",
            "min": 0,
            "continuous_update": true,
            "readout_format": "d",
            "description_tooltip": null,
            "readout": true,
            "_model_module": "@jupyter-widgets/controls",
            "layout": "IPY_MODEL_d8388a5653a74dcd823311b0eed2f4e8"
          }
        },
        "7d7f22ac50b6492283ec7330d593d55a": {
          "model_module": "@jupyter-widgets/controls",
          "model_name": "IntSliderModel",
          "state": {
            "_view_name": "IntSliderView",
            "style": "IPY_MODEL_0b1853d895414320acddc8eabbc5ee8c",
            "_dom_classes": [],
            "description": "acceleration",
            "step": 1,
            "_model_name": "IntSliderModel",
            "orientation": "horizontal",
            "max": 25,
            "_view_module": "@jupyter-widgets/controls",
            "_model_module_version": "1.5.0",
            "value": 5,
            "_view_count": null,
            "disabled": false,
            "_view_module_version": "1.5.0",
            "min": 1,
            "continuous_update": true,
            "readout_format": "d",
            "description_tooltip": null,
            "readout": true,
            "_model_module": "@jupyter-widgets/controls",
            "layout": "IPY_MODEL_5d5bc8dabd704b6ea1780402052f63b2"
          }
        },
        "888971da953d401eb7f94fdbca1329f0": {
          "model_module": "@jupyter-widgets/output",
          "model_name": "OutputModel",
          "state": {
            "_view_name": "OutputView",
            "msg_id": "",
            "_dom_classes": [],
            "_model_name": "OutputModel",
            "outputs": [
              {
                "output_type": "stream",
                "metadata": {
                  "tags": []
                },
                "text": "Time of flight = 4.449010675558045 s\nRange = 62.6749113627569 m\nMax height = 26.543628069901597 m\n",
                "stream": "stdout"
              },
              {
                "output_type": "display_data",
                "metadata": {
                  "tags": [],
                  "needs_background": "light"
                },
                "image/png": "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\n",
                "text/plain": "<Figure size 432x288 with 1 Axes>"
              }
            ],
            "_view_module": "@jupyter-widgets/output",
            "_model_module_version": "1.0.0",
            "_view_count": null,
            "_view_module_version": "1.0.0",
            "layout": "IPY_MODEL_3e80c9c1625848feb4d18670eb6452b1",
            "_model_module": "@jupyter-widgets/output"
          }
        },
        "d87145ace2b649e19dd621bd04f7dbfa": {
          "model_module": "@jupyter-widgets/controls",
          "model_name": "SliderStyleModel",
          "state": {
            "_view_name": "StyleView",
            "handle_color": null,
            "_model_name": "SliderStyleModel",
            "description_width": "",
            "_view_module": "@jupyter-widgets/base",
            "_model_module_version": "1.5.0",
            "_view_count": null,
            "_view_module_version": "1.2.0",
            "_model_module": "@jupyter-widgets/controls"
          }
        },
        "d40c2bb6afbe4903bf1d1882715bbe12": {
          "model_module": "@jupyter-widgets/base",
          "model_name": "LayoutModel",
          "state": {
            "_view_name": "LayoutView",
            "grid_template_rows": null,
            "right": null,
            "justify_content": null,
            "_view_module": "@jupyter-widgets/base",
            "overflow": null,
            "_model_module_version": "1.2.0",
            "_view_count": null,
            "flex_flow": null,
            "width": null,
            "min_width": null,
            "border": null,
            "align_items": null,
            "bottom": null,
            "_model_module": "@jupyter-widgets/base",
            "top": null,
            "grid_column": null,
            "overflow_y": null,
            "overflow_x": null,
            "grid_auto_flow": null,
            "grid_area": null,
            "grid_template_columns": null,
            "flex": null,
            "_model_name": "LayoutModel",
            "justify_items": null,
            "grid_row": null,
            "max_height": null,
            "align_content": null,
            "visibility": null,
            "align_self": null,
            "height": null,
            "min_height": null,
            "padding": null,
            "grid_auto_rows": null,
            "grid_gap": null,
            "max_width": null,
            "order": null,
            "_view_module_version": "1.2.0",
            "grid_template_areas": null,
            "object_position": null,
            "object_fit": null,
            "grid_auto_columns": null,
            "margin": null,
            "display": null,
            "left": null
          }
        },
        "35f6793e78824c47943ef0a882623eb9": {
          "model_module": "@jupyter-widgets/controls",
          "model_name": "SliderStyleModel",
          "state": {
            "_view_name": "StyleView",
            "handle_color": null,
            "_model_name": "SliderStyleModel",
            "description_width": "",
            "_view_module": "@jupyter-widgets/base",
            "_model_module_version": "1.5.0",
            "_view_count": null,
            "_view_module_version": "1.2.0",
            "_model_module": "@jupyter-widgets/controls"
          }
        },
        "eba4379f5bea42a983f2e07a29e8d9f0": {
          "model_module": "@jupyter-widgets/base",
          "model_name": "LayoutModel",
          "state": {
            "_view_name": "LayoutView",
            "grid_template_rows": null,
            "right": null,
            "justify_content": null,
            "_view_module": "@jupyter-widgets/base",
            "overflow": null,
            "_model_module_version": "1.2.0",
            "_view_count": null,
            "flex_flow": null,
            "width": null,
            "min_width": null,
            "border": null,
            "align_items": null,
            "bottom": null,
            "_model_module": "@jupyter-widgets/base",
            "top": null,
            "grid_column": null,
            "overflow_y": null,
            "overflow_x": null,
            "grid_auto_flow": null,
            "grid_area": null,
            "grid_template_columns": null,
            "flex": null,
            "_model_name": "LayoutModel",
            "justify_items": null,
            "grid_row": null,
            "max_height": null,
            "align_content": null,
            "visibility": null,
            "align_self": null,
            "height": null,
            "min_height": null,
            "padding": null,
            "grid_auto_rows": null,
            "grid_gap": null,
            "max_width": null,
            "order": null,
            "_view_module_version": "1.2.0",
            "grid_template_areas": null,
            "object_position": null,
            "object_fit": null,
            "grid_auto_columns": null,
            "margin": null,
            "display": null,
            "left": null
          }
        },
        "4510b93081764760abbb95d047a43942": {
          "model_module": "@jupyter-widgets/controls",
          "model_name": "SliderStyleModel",
          "state": {
            "_view_name": "StyleView",
            "handle_color": null,
            "_model_name": "SliderStyleModel",
            "description_width": "",
            "_view_module": "@jupyter-widgets/base",
            "_model_module_version": "1.5.0",
            "_view_count": null,
            "_view_module_version": "1.2.0",
            "_model_module": "@jupyter-widgets/controls"
          }
        },
        "d8388a5653a74dcd823311b0eed2f4e8": {
          "model_module": "@jupyter-widgets/base",
          "model_name": "LayoutModel",
          "state": {
            "_view_name": "LayoutView",
            "grid_template_rows": null,
            "right": null,
            "justify_content": null,
            "_view_module": "@jupyter-widgets/base",
            "overflow": null,
            "_model_module_version": "1.2.0",
            "_view_count": null,
            "flex_flow": null,
            "width": null,
            "min_width": null,
            "border": null,
            "align_items": null,
            "bottom": null,
            "_model_module": "@jupyter-widgets/base",
            "top": null,
            "grid_column": null,
            "overflow_y": null,
            "overflow_x": null,
            "grid_auto_flow": null,
            "grid_area": null,
            "grid_template_columns": null,
            "flex": null,
            "_model_name": "LayoutModel",
            "justify_items": null,
            "grid_row": null,
            "max_height": null,
            "align_content": null,
            "visibility": null,
            "align_self": null,
            "height": null,
            "min_height": null,
            "padding": null,
            "grid_auto_rows": null,
            "grid_gap": null,
            "max_width": null,
            "order": null,
            "_view_module_version": "1.2.0",
            "grid_template_areas": null,
            "object_position": null,
            "object_fit": null,
            "grid_auto_columns": null,
            "margin": null,
            "display": null,
            "left": null
          }
        },
        "0b1853d895414320acddc8eabbc5ee8c": {
          "model_module": "@jupyter-widgets/controls",
          "model_name": "SliderStyleModel",
          "state": {
            "_view_name": "StyleView",
            "handle_color": null,
            "_model_name": "SliderStyleModel",
            "description_width": "",
            "_view_module": "@jupyter-widgets/base",
            "_model_module_version": "1.5.0",
            "_view_count": null,
            "_view_module_version": "1.2.0",
            "_model_module": "@jupyter-widgets/controls"
          }
        },
        "5d5bc8dabd704b6ea1780402052f63b2": {
          "model_module": "@jupyter-widgets/base",
          "model_name": "LayoutModel",
          "state": {
            "_view_name": "LayoutView",
            "grid_template_rows": null,
            "right": null,
            "justify_content": null,
            "_view_module": "@jupyter-widgets/base",
            "overflow": null,
            "_model_module_version": "1.2.0",
            "_view_count": null,
            "flex_flow": null,
            "width": null,
            "min_width": null,
            "border": null,
            "align_items": null,
            "bottom": null,
            "_model_module": "@jupyter-widgets/base",
            "top": null,
            "grid_column": null,
            "overflow_y": null,
            "overflow_x": null,
            "grid_auto_flow": null,
            "grid_area": null,
            "grid_template_columns": null,
            "flex": null,
            "_model_name": "LayoutModel",
            "justify_items": null,
            "grid_row": null,
            "max_height": null,
            "align_content": null,
            "visibility": null,
            "align_self": null,
            "height": null,
            "min_height": null,
            "padding": null,
            "grid_auto_rows": null,
            "grid_gap": null,
            "max_width": null,
            "order": null,
            "_view_module_version": "1.2.0",
            "grid_template_areas": null,
            "object_position": null,
            "object_fit": null,
            "grid_auto_columns": null,
            "margin": null,
            "display": null,
            "left": null
          }
        },
        "3e80c9c1625848feb4d18670eb6452b1": {
          "model_module": "@jupyter-widgets/base",
          "model_name": "LayoutModel",
          "state": {
            "_view_name": "LayoutView",
            "grid_template_rows": null,
            "right": null,
            "justify_content": null,
            "_view_module": "@jupyter-widgets/base",
            "overflow": null,
            "_model_module_version": "1.2.0",
            "_view_count": null,
            "flex_flow": null,
            "width": null,
            "min_width": null,
            "border": null,
            "align_items": null,
            "bottom": null,
            "_model_module": "@jupyter-widgets/base",
            "top": null,
            "grid_column": null,
            "overflow_y": null,
            "overflow_x": null,
            "grid_auto_flow": null,
            "grid_area": null,
            "grid_template_columns": null,
            "flex": null,
            "_model_name": "LayoutModel",
            "justify_items": null,
            "grid_row": null,
            "max_height": null,
            "align_content": null,
            "visibility": null,
            "align_self": null,
            "height": null,
            "min_height": null,
            "padding": null,
            "grid_auto_rows": null,
            "grid_gap": null,
            "max_width": null,
            "order": null,
            "_view_module_version": "1.2.0",
            "grid_template_areas": null,
            "object_position": null,
            "object_fit": null,
            "grid_auto_columns": null,
            "margin": null,
            "display": null,
            "left": null
          }
        }
      }
    }
  },
  "cells": [
    {
      "cell_type": "markdown",
      "metadata": {
        "id": "view-in-github",
        "colab_type": "text"
      },
      "source": [
        "<a href=\"https://colab.research.google.com/github/vaammpyy/Physics_with_python/blob/main/Projectile_motion_trajectory.ipynb\" target=\"_parent\"><img src=\"https://colab.research.google.com/assets/colab-badge.svg\" alt=\"Open In Colab\"/></a>"
      ]
    },
    {
      "cell_type": "code",
      "metadata": {
        "id": "hn4-gobLdcHP"
      },
      "source": [
        "import matplotlib.pyplot as plt\r\n",
        "import numpy as np\r\n",
        "from ipywidgets import interactive\r\n",
        "import sympy as sp"
      ],
      "execution_count": 23,
      "outputs": []
    },
    {
      "cell_type": "code",
      "metadata": {
        "id": "D4VUIJfZhBWX"
      },
      "source": [
        "def plotter(x,f,xlim,ytop):\r\n",
        "  plt.plot(x,f,'r')\r\n",
        "  plt.grid()\r\n",
        "  plt.legend([\"Trajectory\"])\r\n",
        "  plt.ylabel(\"Height in m\")\r\n",
        "  plt.xlabel(\"Range in m\")\r\n",
        "  plt.ylim(top=ytop,bottom=0)\r\n",
        "  plt.xlim(0,xlim)\r\n",
        "  plt.show()"
      ],
      "execution_count": 24,
      "outputs": []
    },
    {
      "cell_type": "code",
      "metadata": {
        "id": "D8xbuGhKimhw"
      },
      "source": [
        "def trajectory(theta,velo,height,acceleration):\r\n",
        "  theta=theta*np.pi/180\r\n",
        "  u=velo\r\n",
        "  h=height\r\n",
        "  accel=acceleration\r\n",
        "  xlim=0\r\n",
        "  d= sp.Symbol('d')\r\n",
        "  k=d*np.tan(theta)-accel*d**2/(u**2*(np.cos(theta))**2)+h\r\n",
        "  m=sp.solve(k)\r\n",
        "  if len(m)==2:\r\n",
        "    xlim=np.ceil(m[1])\r\n",
        "  else:\r\n",
        "    xlim=np.ceil(m[0])\r\n",
        "  x=np.linspace(0,10+xlim,1000)\r\n",
        "  f=lambda theta,u,h,accel:x*np.tan(theta)-accel*x**2/(u**2*(np.cos(theta))**2)+h\r\n",
        "  t=(u*np.sin(theta)+np.sqrt((u*np.sin(theta))**2+2*accel*h))/accel\r\n",
        "  h_max=(u*np.sin(theta))**2/(2*accel)+h\r\n",
        "  print(\"Time of flight =\",t,'s')\r\n",
        "  if len(m)==2:\r\n",
        "     print(\"Range =\",m[1],'m')\r\n",
        "  else:\r\n",
        "     print(\"Range =\",m[0],'m')\r\n",
        "  print(\"Max height =\",h_max,'m')\r\n",
        "  ylim=h_max+0.1*h_max\r\n",
        "  plotter(x,f(theta,u,h,accel),xlim,ylim)\r\n",
        "\r\n"
      ],
      "execution_count": 25,
      "outputs": []
    },
    {
      "cell_type": "code",
      "metadata": {
        "colab": {
          "base_uri": "https://localhost:8080/",
          "height": 458,
          "referenced_widgets": [
            "854c66e17ecf4d2a84ac21aed5fd84f8",
            "773b1ec1e99149cd94768e06b02e3083",
            "86ef50fc62144860b25f977a7d043a6e",
            "53bc2c4cb799431aa79bb21669144ad9",
            "25d82b2ad17b454ea81ec3c6f966568a",
            "7d7f22ac50b6492283ec7330d593d55a",
            "888971da953d401eb7f94fdbca1329f0",
            "d87145ace2b649e19dd621bd04f7dbfa",
            "d40c2bb6afbe4903bf1d1882715bbe12",
            "35f6793e78824c47943ef0a882623eb9",
            "eba4379f5bea42a983f2e07a29e8d9f0",
            "4510b93081764760abbb95d047a43942",
            "d8388a5653a74dcd823311b0eed2f4e8",
            "0b1853d895414320acddc8eabbc5ee8c",
            "5d5bc8dabd704b6ea1780402052f63b2",
            "3e80c9c1625848feb4d18670eb6452b1"
          ]
        },
        "id": "E9gMCE4Vo7M6",
        "outputId": "2daba1f5-afc1-4261-b225-ac66279569f7"
      },
      "source": [
        "iplot=interactive(trajectory,\r\n",
        "                  theta=(-90,90,1),\r\n",
        "                  velo=(1,25,1),\r\n",
        "                  height=(0,50,1),\r\n",
        "                  acceleration=(1,25,1)\r\n",
        "                  )\r\n",
        "iplot"
      ],
      "execution_count": 26,
      "outputs": [
        {
          "output_type": "display_data",
          "data": {
            "application/vnd.jupyter.widget-view+json": {
              "model_id": "854c66e17ecf4d2a84ac21aed5fd84f8",
              "version_minor": 0,
              "version_major": 2
            },
            "text/plain": [
              "interactive(children=(IntSlider(value=0, description='theta', max=90, min=-90), IntSlider(value=13, descriptio…"
            ]
          },
          "metadata": {
            "tags": []
          }
        }
      ]
    }
  ]
}