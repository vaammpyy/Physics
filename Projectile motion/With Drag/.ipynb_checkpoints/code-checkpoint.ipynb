{
 "cells": [
  {
   "cell_type": "code",
   "execution_count": 1,
   "id": "caf84927-f918-4189-84c0-44015df70043",
   "metadata": {},
   "outputs": [],
   "source": [
    "import numpy as np\n",
    "import matplotlib.pyplot as plt\n",
    "from numba import njit\n",
    "from ipywidgets import interactive"
   ]
  },
  {
   "cell_type": "markdown",
   "id": "36385bc4-c613-4b4e-9116-4e4282eb909a",
   "metadata": {},
   "source": [
    "Differential equation for the motion of a projectile in presence of air drag"
   ]
  },
  {
   "cell_type": "markdown",
   "id": "02c5823e-037c-45d1-b1c8-35af7d990f3b",
   "metadata": {},
   "source": [
    "$m\\vec{\\dot{v}}=\\vec{F_d}+\\vec{F_g}$"
   ]
  },
  {
   "cell_type": "markdown",
   "id": "349aa53e-7e4a-4f93-9cb2-df97c7b687de",
   "metadata": {},
   "source": [
    "$F_d=-\\beta D \\vec{v}- \\gamma D^2 |\\vec{v}|^2 \\hat{v}$"
   ]
  },
  {
   "cell_type": "markdown",
   "id": "354be0b2-e8b0-452b-8d23-db020e5e2b0c",
   "metadata": {},
   "source": [
    "$\\vec{\\dot{v}}=\\vec{g}-\\beta \\frac{D}{m} \\vec{v} - \\gamma \\frac{D}{m}D |\\vec{v}|^2 \\hat{v} $"
   ]
  },
  {
   "cell_type": "markdown",
   "id": "bb0319b0-0f56-4db6-855f-7fdf957563ff",
   "metadata": {},
   "source": [
    "$\\dot{v_x}=-\\beta \\frac{D}{m} v_x - \\gamma \\frac{D^2}{m} (v_x^2+v_y^2)^{0.5}v_x$"
   ]
  },
  {
   "cell_type": "markdown",
   "id": "ff307122-6730-4232-9642-07edb997b7ac",
   "metadata": {},
   "source": [
    "$\\dot{v_y}=-g-\\beta \\frac{D}{m} v_y - \\gamma \\frac{D^2}{m} (v_x^2+v_y^2)^{0.5}v_y$"
   ]
  },
  {
   "cell_type": "markdown",
   "id": "97c7cc1b-0667-4833-82ae-0d4311d669d8",
   "metadata": {},
   "source": [
    "$\\dot{r_x}=v_x$"
   ]
  },
  {
   "cell_type": "markdown",
   "id": "df05b92d-89e5-4c57-84e1-a0071177d440",
   "metadata": {},
   "source": [
    "$\\dot{r_y}=v_y$"
   ]
  },
  {
   "cell_type": "code",
   "execution_count": 3,
   "id": "52d8df20-cc52-4f5b-b78e-ffdc409ee972",
   "metadata": {},
   "outputs": [],
   "source": [
    "@njit\n",
    "def dv_xdt(v_x,v_y,D,m,beta,gamma):\n",
    "    f1=-beta*D/m\n",
    "    f2=-gamma*D**2/m\n",
    "    dvdt=f1*v_x+f2*(v_x**2+v_y**2)**0.5*v_x\n",
    "    return(dvdt)\n",
    "\n",
    "@njit\n",
    "def rk4_v_x(v_x,v_y,D,m,beta,gamma,dt):\n",
    "    k0=dv_xdt(v_x,v_y,D,m,beta,gamma)\n",
    "    k1=dv_xdt(v_x+k0/2,v_y,D,m,beta,gamma)\n",
    "    k2=dv_xdt(v_x+k1/2,v_y,D,m,beta,gamma)\n",
    "    k3=dv_xdt(v_x+k2/2,v_y,D,m,beta,gamma)\n",
    "    v_x+=dt/6*(k0+k1+k2+k3)\n",
    "    return(v_x)\n",
    "    \n",
    "@njit\n",
    "def dv_ydt(v_x,v_y,D,m,beta,gamma,g):\n",
    "    f1=-beta*D/m\n",
    "    f2=-gamma*D**2/m\n",
    "    dvdt=-g+f1*v_x+f2*(v_x**2+v_y**2)**0.5*v_x\n",
    "    return(dvdt)\n",
    "\n",
    "@njit\n",
    "def rk4_v_y(v_x,v_y,D,m,beta,gamma,dt,g):\n",
    "    k0=dv_ydt(v_x,v_y,D,m,beta,gamma,g)\n",
    "    k1=dv_ydt(v_x,v_y+k0/2,D,m,beta,gamma,g)\n",
    "    k2=dv_ydt(v_x,v_y+k1/2,D,m,beta,gamma,g)\n",
    "    k3=dv_ydt(v_x,v_y+k2/2,D,m,beta,gamma,g)\n",
    "    v_y+=dt/6*(k0+k1+k2+k3)\n",
    "    return(v_y)\n",
    "    \n",
    "@njit\n",
    "def dr_xdt(v_x):\n",
    "    return(v_x)\n",
    "    \n",
    "@njit\n",
    "def rk4_r_x(r_x,v_x,dt):\n",
    "    k0=dr_xdt(v_x)\n",
    "    k1=dr_xdt(v_x+k0/2)\n",
    "    k2=dr_xdt(v_x+k1/2)\n",
    "    k3=dr_xdt(v_x+k2/2)\n",
    "    r_x+=dt/6*(k0+k1+k2+k3)\n",
    "    return(r_x)\n",
    "    \n",
    "@njit\n",
    "def dr_ydt(v_y):\n",
    "    return(v_y)\n",
    "    \n",
    "@njit\n",
    "def rk4_r_y(r_y,v_y,dt):\n",
    "    k0=dr_ydt(v_y)\n",
    "    k1=dr_ydt(v_y+k0/2)\n",
    "    k2=dr_ydt(v_y+k1/2)\n",
    "    k3=dr_ydt(v_y+k2/2)\n",
    "    r_y+=dt/6*(k0+k1+k2+k3)\n",
    "    return(r_y)"
   ]
  },
  {
   "cell_type": "code",
   "execution_count": 15,
   "id": "78b970fc-4fbf-4a55-90cd-d352859ca77b",
   "metadata": {},
   "outputs": [],
   "source": [
    "def trajectory(theta,v,y,D,m,beta,gamma,g,time_steps):\n",
    "    \n",
    "    theta=theta*np.pi/180\n",
    "    v_i_x=v*np.cos(theta)\n",
    "    v_i_y=v*np.sin(theta)\n",
    "    D=D*0.01\n",
    "    m=m*0.001\n",
    "    beta=beta*10**(-4)\n",
    "    dt=1/time_steps\n",
    "    gamma*=10**(-2)\n",
    "    \n",
    "    i=0\n",
    "    \n",
    "    v_x_rk=[]\n",
    "    v_y_rk=[]\n",
    "    r_x_rk=[]\n",
    "    r_y_rk=[]\n",
    "\n",
    "    v_x_rk=[v_i_x]\n",
    "    v_y_rk=[v_i_y]\n",
    "    r_x_rk=[0]\n",
    "    r_y_rk=[y]\n",
    "\n",
    "    while r_y_rk[i]>=0:\n",
    "        \n",
    "        v_x_rk.append(rk4_v_x(v_x_rk[i],v_y_rk[i],D,m,beta,gamma,dt)) \n",
    "        v_y_rk.append(rk4_v_y(v_x_rk[i],v_y_rk[i],D,m,beta,gamma,dt,g)) \n",
    "        r_x_rk.append(rk4_r_x(r_x_rk[i],v_x_rk[i],dt))\n",
    "        r_y_rk.append(rk4_r_y(r_y_rk[i],v_y_rk[i],dt))\n",
    "        \n",
    "        i+=1 \n",
    "\n",
    "    \n",
    "    a=np.where(r_y_rk==np.max(r_y_rk))\n",
    "    y_max=np.max(r_y_rk) \n",
    "    x_max=np.max(r_x_rk[a[0][0]])\n",
    "     \n",
    "    fig=plt.figure(figsize=(10,10),facecolor='white')\n",
    "    plt.plot(r_x_rk,r_y_rk,'--k',x_max,y_max,'ro')\n",
    "    plt.xlabel('Range [m]')\n",
    "    plt.ylabel('Height [m]')\n",
    "    plt.legend([\"Trajectory\",\"Max Height\"])\n",
    "    plt.title(\"Time of flight=%.3fs, Range=%.3fm, Maximum height=%.3fm\"%(i*dt,r_x_rk[-1],y_max),fontsize=16)\n",
    "    plt.grid()\n",
    "    plt.xticks(np.arange(0,r_x_rk[-1],step=1.0))\n",
    "    plt.yticks(np.arange(0,y_max+2,step=1.0))\n",
    "    plt.xlim((0,r_x_rk[-1]))\n",
    "    plt.ylim((0,y_max+1))\n",
    "    plt.show()"
   ]
  },
  {
   "cell_type": "code",
   "execution_count": 16,
   "id": "c22dc87e-78ce-43f9-b127-b2a42e834172",
   "metadata": {},
   "outputs": [
    {
     "data": {
      "application/vnd.jupyter.widget-view+json": {
       "model_id": "eac2fa2862244ef3948b230bc3c2686a",
       "version_major": 2,
       "version_minor": 0
      },
      "text/plain": [
       "interactive(children=(IntSlider(value=45, description='theta', max=90), IntSlider(value=13, description='v', m…"
      ]
     },
     "metadata": {},
     "output_type": "display_data"
    }
   ],
   "source": [
    "iplot=interactive(trajectory,\n",
    "                 theta=(0,90,1),\n",
    "                 v=(1,25,1),\n",
    "                 y=(0,50,1),\n",
    "                 D=(1,50,1),\n",
    "                 m=(10,1000,10),\n",
    "                 beta=(0,100,0.1),\n",
    "                 gamma=(0,10,0.1),\n",
    "                 g=(1,30,1),\n",
    "                 time_steps=(1,100,1))\n",
    "iplot"
   ]
  }
 ],
 "metadata": {
  "kernelspec": {
   "display_name": "Python 3",
   "language": "python",
   "name": "python3"
  },
  "language_info": {
   "codemirror_mode": {
    "name": "ipython",
    "version": 3
   },
   "file_extension": ".py",
   "mimetype": "text/x-python",
   "name": "python",
   "nbconvert_exporter": "python",
   "pygments_lexer": "ipython3",
   "version": "3.9.5"
  }
 },
 "nbformat": 4,
 "nbformat_minor": 5
}
