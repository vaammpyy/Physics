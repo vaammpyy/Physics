{
  "nbformat": 4,
  "nbformat_minor": 0,
  "metadata": {
    "colab": {
      "name": "Projectile_motion_trajectory.ipynb",
      "provenance": [],
      "collapsed_sections": [],
      "authorship_tag": "ABX9TyOgAr7PbUd5ewBvtNlbyj5I",
      "include_colab_link": true
    },
    "kernelspec": {
      "name": "python3",
      "display_name": "Python 3"
    }
  },
  "cells": [
    {
      "cell_type": "markdown",
      "metadata": {
        "id": "view-in-github",
        "colab_type": "text"
      },
      "source": [
        "<a href=\"https://colab.research.google.com/github/vaammpyy/Physics/blob/main/Projectile%20motion/Without%20Drag/code.ipynb\" target=\"_parent\"><img src=\"https://colab.research.google.com/assets/colab-badge.svg\" alt=\"Open In Colab\"/></a>"
      ]
    },
    {
      "cell_type": "code",
      "metadata": {
        "id": "hn4-gobLdcHP"
      },
      "source": [
        "import matplotlib.pyplot as plt\n",
        "import numpy as np\n",
        "from ipywidgets import interactive\n",
        "import sympy as sp\n",
        "import math\n",
        "import sys"
      ],
      "execution_count": 6,
      "outputs": []
    },
    {
      "cell_type": "code",
      "metadata": {
        "id": "D4VUIJfZhBWX"
      },
      "source": [
        "def plotter(x,f,xlim,ytop,x_1,y_1,t,h,r):\n",
        "  plt.figure(figsize=(10,10),facecolor='white')\n",
        "  plt.plot(x,f,'k',x_1,y_1,'ro')\n",
        "  plt.grid()\n",
        "  plt.legend([\"Trajectory\",\"Max height\"])\n",
        "  plt.ylabel(\"Height [m]\")\n",
        "  plt.xlabel(\"Range [m]\")\n",
        "  plt.ylim(top=ytop,bottom=0)\n",
        "  plt.xlim(0,xlim)\n",
        "  plt.title(\"Time of flight={}s, Range={}m, Maximum height={}m\".format(t,r,h))\n",
        "  plt.xticks(np.arange(0,xlim,step=1.0))\n",
        "  plt.yticks(np.arange(0,ytop,step=1.0))\n",
        "  plt.show()"
      ],
      "execution_count": 11,
      "outputs": []
    },
    {
      "cell_type": "code",
      "metadata": {
        "id": "D8xbuGhKimhw"
      },
      "source": [
        "def trajectory(theta,velo,height,acceleration):\n",
        "  \n",
        "  \n",
        "  theta=theta*np.pi/180\n",
        "  u=velo\n",
        "  h=height\n",
        "  accel=acceleration\n",
        "  \n",
        "  \n",
        "  d= sp.Symbol('d')\n",
        "  k=d*np.tan(theta)-accel*d**2/(2*u**2*(np.cos(theta))**2)+h\n",
        "  m=sp.solve(k)\n",
        "  m[0]=float(m[0])\n",
        "  m[1]=float(m[1])\n",
        "  \n",
        "  xlim=0\n",
        "  if len(m)==2:\n",
        "    if m[1]>1:\n",
        "       xlim=np.ceil(m[1])\n",
        "    else:\n",
        "       y=round(m[1],3)\n",
        "       xlim=y+0.01*y\n",
        "  else:\n",
        "    xlim=np.ceil(m[0])\n",
        "  \n",
        "  x=np.linspace(0,1.1*xlim,100)\n",
        " \n",
        "  f=lambda theta,u,h,accel:x*np.tan(theta)-accel*x**2/(2*u**2*(np.cos(theta))**2)+h\n",
        "  t=(u*np.sin(theta)+np.sqrt((u*np.sin(theta))**2+2*accel*h))/accel\n",
        " \n",
        "  x_1=np.tan(theta)*(2*u**2*(np.cos(theta))**2)/(2*accel)\n",
        "  \n",
        "  if x_1<0:\n",
        "    x_1=0\n",
        "  \n",
        "  if theta>=0:\n",
        "      h_max=(u*np.sin(theta))**2/(2*accel)+h\n",
        "  else:\n",
        "      h_max=h+0.0\n",
        "  y_1=h_max\n",
        "  \n",
        "  time=round(t,3)\n",
        "  \n",
        "  if len(m)==2:\n",
        "     range=round(m[1],3)\n",
        "  else:\n",
        "     range=round(m[0],3)\n",
        "  height=round(h_max,3)\n",
        "  ylim=h_max+0.1*h_max\n",
        "  plotter(x,f(theta,u,h,accel),xlim,ylim,x_1,y_1,time,height,range)"
      ],
      "execution_count": 12,
      "outputs": []
    },
    {
      "cell_type": "code",
      "metadata": {
        "id": "ePrxkxbrRSqI"
      },
      "source": [
        "iplot=interactive(trajectory,\n",
        "                    theta=(-90,90,1),\n",
        "                    velo=(1,25,1),\n",
        "                    height=(0,50,1),\n",
        "                    acceleration=(1,25,1))"
      ],
      "execution_count": 13,
      "outputs": []
    },
    {
      "cell_type": "code",
      "metadata": {
        "id": "E9gMCE4Vo7M6"
      },
      "source": [
        "v_1=input(\"Enter 'c'for custom trajectory or press enter for interactive trajectory:\")\n",
        "\n",
        "if v_1=='c':\n",
        "    v_2=float(input(\"Enter angle of projection in degrees:\"))\n",
        "    v_3=float(input(\"Enter projection velocity in m/s:\"))\n",
        "    v_4=float(input(\"Enter initial elevation in m:\"))\n",
        "    v_5=float(input(\"Enter downward acceleration in m/s^2:\"))\n",
        "    trajectory(v_2,v_3,v_4,v_5)\n",
        "    sys.exit()\n",
        "iplot"
      ],
      "execution_count": null,
      "outputs": []
    },
    {
      "cell_type": "code",
      "metadata": {
        "id": "BF8WxPvrJF1b"
      },
      "source": [
        ""
      ],
      "execution_count": 14,
      "outputs": []
    }
  ]
}