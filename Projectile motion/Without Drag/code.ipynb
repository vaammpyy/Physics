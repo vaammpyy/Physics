{
  "nbformat": 4,
  "nbformat_minor": 0,
  "metadata": {
    "colab": {
      "name": "Projectile_motion_trajectory.ipynb",
      "provenance": [],
      "collapsed_sections": [],
      "authorship_tag": "ABX9TyMhFyeeT1sra0Qk6TV5GMYm",
      "include_colab_link": true
    },
    "kernelspec": {
      "name": "python3",
      "display_name": "Python 3"
    },
    "widgets": {
      "application/vnd.jupyter.widget-state+json": {
        "d5e46415032d4da99bc9ebd4d81d08a2": {
          "model_module": "@jupyter-widgets/controls",
          "model_name": "VBoxModel",
          "state": {
            "_view_name": "VBoxView",
            "_dom_classes": [
              "widget-interact"
            ],
            "_model_name": "VBoxModel",
            "_view_module": "@jupyter-widgets/controls",
            "_model_module_version": "1.5.0",
            "_view_count": null,
            "_view_module_version": "1.5.0",
            "box_style": "",
            "layout": "IPY_MODEL_e021d004ebc94f1a891296eed2b0fbb7",
            "_model_module": "@jupyter-widgets/controls",
            "children": [
              "IPY_MODEL_978bd96066934de1960dcf81874e2651",
              "IPY_MODEL_15cd4c34b6ae40c49a9457aa77f0c3df",
              "IPY_MODEL_81c201294a3a4fb6b888a2a06c601278",
              "IPY_MODEL_541e6265fd7a482389f7947637cb1b2c",
              "IPY_MODEL_19ef2314ca044a4c8dc4e083f5db5fb4"
            ]
          }
        },
        "e021d004ebc94f1a891296eed2b0fbb7": {
          "model_module": "@jupyter-widgets/base",
          "model_name": "LayoutModel",
          "state": {
            "_view_name": "LayoutView",
            "grid_template_rows": null,
            "right": null,
            "justify_content": null,
            "_view_module": "@jupyter-widgets/base",
            "overflow": null,
            "_model_module_version": "1.2.0",
            "_view_count": null,
            "flex_flow": null,
            "width": null,
            "min_width": null,
            "border": null,
            "align_items": null,
            "bottom": null,
            "_model_module": "@jupyter-widgets/base",
            "top": null,
            "grid_column": null,
            "overflow_y": null,
            "overflow_x": null,
            "grid_auto_flow": null,
            "grid_area": null,
            "grid_template_columns": null,
            "flex": null,
            "_model_name": "LayoutModel",
            "justify_items": null,
            "grid_row": null,
            "max_height": null,
            "align_content": null,
            "visibility": null,
            "align_self": null,
            "height": null,
            "min_height": null,
            "padding": null,
            "grid_auto_rows": null,
            "grid_gap": null,
            "max_width": null,
            "order": null,
            "_view_module_version": "1.2.0",
            "grid_template_areas": null,
            "object_position": null,
            "object_fit": null,
            "grid_auto_columns": null,
            "margin": null,
            "display": null,
            "left": null
          }
        },
        "978bd96066934de1960dcf81874e2651": {
          "model_module": "@jupyter-widgets/controls",
          "model_name": "IntSliderModel",
          "state": {
            "_view_name": "IntSliderView",
            "style": "IPY_MODEL_726aba5a7c4c42678680b4b3790f1060",
            "_dom_classes": [],
            "description": "theta",
            "step": 1,
            "_model_name": "IntSliderModel",
            "orientation": "horizontal",
            "max": 90,
            "_view_module": "@jupyter-widgets/controls",
            "_model_module_version": "1.5.0",
            "value": 0,
            "_view_count": null,
            "disabled": false,
            "_view_module_version": "1.5.0",
            "min": -90,
            "continuous_update": true,
            "readout_format": "d",
            "description_tooltip": null,
            "readout": true,
            "_model_module": "@jupyter-widgets/controls",
            "layout": "IPY_MODEL_e58e2c3b1c794d6290755b0bda7bef80"
          }
        },
        "15cd4c34b6ae40c49a9457aa77f0c3df": {
          "model_module": "@jupyter-widgets/controls",
          "model_name": "IntSliderModel",
          "state": {
            "_view_name": "IntSliderView",
            "style": "IPY_MODEL_8004b2a693ee4818832d8cd34fd3630f",
            "_dom_classes": [],
            "description": "velo",
            "step": 1,
            "_model_name": "IntSliderModel",
            "orientation": "horizontal",
            "max": 25,
            "_view_module": "@jupyter-widgets/controls",
            "_model_module_version": "1.5.0",
            "value": 13,
            "_view_count": null,
            "disabled": false,
            "_view_module_version": "1.5.0",
            "min": 1,
            "continuous_update": true,
            "readout_format": "d",
            "description_tooltip": null,
            "readout": true,
            "_model_module": "@jupyter-widgets/controls",
            "layout": "IPY_MODEL_22eb01c27e40480eb6fdf7126387f3c9"
          }
        },
        "81c201294a3a4fb6b888a2a06c601278": {
          "model_module": "@jupyter-widgets/controls",
          "model_name": "IntSliderModel",
          "state": {
            "_view_name": "IntSliderView",
            "style": "IPY_MODEL_ce7af796f3f743ec94c3265c256f0da8",
            "_dom_classes": [],
            "description": "height",
            "step": 1,
            "_model_name": "IntSliderModel",
            "orientation": "horizontal",
            "max": 50,
            "_view_module": "@jupyter-widgets/controls",
            "_model_module_version": "1.5.0",
            "value": 25,
            "_view_count": null,
            "disabled": false,
            "_view_module_version": "1.5.0",
            "min": 0,
            "continuous_update": true,
            "readout_format": "d",
            "description_tooltip": null,
            "readout": true,
            "_model_module": "@jupyter-widgets/controls",
            "layout": "IPY_MODEL_d2d548def5d04b5a88eadef7cb11e2da"
          }
        },
        "541e6265fd7a482389f7947637cb1b2c": {
          "model_module": "@jupyter-widgets/controls",
          "model_name": "IntSliderModel",
          "state": {
            "_view_name": "IntSliderView",
            "style": "IPY_MODEL_4c806097b7a040e3ac1edb456e24a9c4",
            "_dom_classes": [],
            "description": "acceleration",
            "step": 1,
            "_model_name": "IntSliderModel",
            "orientation": "horizontal",
            "max": 25,
            "_view_module": "@jupyter-widgets/controls",
            "_model_module_version": "1.5.0",
            "value": 19,
            "_view_count": null,
            "disabled": false,
            "_view_module_version": "1.5.0",
            "min": 1,
            "continuous_update": true,
            "readout_format": "d",
            "description_tooltip": null,
            "readout": true,
            "_model_module": "@jupyter-widgets/controls",
            "layout": "IPY_MODEL_0c67410771134dd9bb9de1cd18a16944"
          }
        },
        "19ef2314ca044a4c8dc4e083f5db5fb4": {
          "model_module": "@jupyter-widgets/output",
          "model_name": "OutputModel",
          "state": {
            "_view_name": "OutputView",
            "msg_id": "",
            "_dom_classes": [],
            "_model_name": "OutputModel",
            "outputs": [
              {
                "output_type": "stream",
                "metadata": {
                  "tags": []
                },
                "text": "Time of flight =1.622s\nRange =21.089m\nMax height =25.0m\n",
                "stream": "stdout"
              },
              {
                "output_type": "display_data",
                "metadata": {
                  "tags": []
                },
                "image/png": "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\n",
                "text/plain": "<Figure size 720x720 with 1 Axes>"
              }
            ],
            "_view_module": "@jupyter-widgets/output",
            "_model_module_version": "1.0.0",
            "_view_count": null,
            "_view_module_version": "1.0.0",
            "layout": "IPY_MODEL_0d392df9e0e844e5a9fc8edd2515f617",
            "_model_module": "@jupyter-widgets/output"
          }
        },
        "726aba5a7c4c42678680b4b3790f1060": {
          "model_module": "@jupyter-widgets/controls",
          "model_name": "SliderStyleModel",
          "state": {
            "_view_name": "StyleView",
            "handle_color": null,
            "_model_name": "SliderStyleModel",
            "description_width": "",
            "_view_module": "@jupyter-widgets/base",
            "_model_module_version": "1.5.0",
            "_view_count": null,
            "_view_module_version": "1.2.0",
            "_model_module": "@jupyter-widgets/controls"
          }
        },
        "e58e2c3b1c794d6290755b0bda7bef80": {
          "model_module": "@jupyter-widgets/base",
          "model_name": "LayoutModel",
          "state": {
            "_view_name": "LayoutView",
            "grid_template_rows": null,
            "right": null,
            "justify_content": null,
            "_view_module": "@jupyter-widgets/base",
            "overflow": null,
            "_model_module_version": "1.2.0",
            "_view_count": null,
            "flex_flow": null,
            "width": null,
            "min_width": null,
            "border": null,
            "align_items": null,
            "bottom": null,
            "_model_module": "@jupyter-widgets/base",
            "top": null,
            "grid_column": null,
            "overflow_y": null,
            "overflow_x": null,
            "grid_auto_flow": null,
            "grid_area": null,
            "grid_template_columns": null,
            "flex": null,
            "_model_name": "LayoutModel",
            "justify_items": null,
            "grid_row": null,
            "max_height": null,
            "align_content": null,
            "visibility": null,
            "align_self": null,
            "height": null,
            "min_height": null,
            "padding": null,
            "grid_auto_rows": null,
            "grid_gap": null,
            "max_width": null,
            "order": null,
            "_view_module_version": "1.2.0",
            "grid_template_areas": null,
            "object_position": null,
            "object_fit": null,
            "grid_auto_columns": null,
            "margin": null,
            "display": null,
            "left": null
          }
        },
        "8004b2a693ee4818832d8cd34fd3630f": {
          "model_module": "@jupyter-widgets/controls",
          "model_name": "SliderStyleModel",
          "state": {
            "_view_name": "StyleView",
            "handle_color": null,
            "_model_name": "SliderStyleModel",
            "description_width": "",
            "_view_module": "@jupyter-widgets/base",
            "_model_module_version": "1.5.0",
            "_view_count": null,
            "_view_module_version": "1.2.0",
            "_model_module": "@jupyter-widgets/controls"
          }
        },
        "22eb01c27e40480eb6fdf7126387f3c9": {
          "model_module": "@jupyter-widgets/base",
          "model_name": "LayoutModel",
          "state": {
            "_view_name": "LayoutView",
            "grid_template_rows": null,
            "right": null,
            "justify_content": null,
            "_view_module": "@jupyter-widgets/base",
            "overflow": null,
            "_model_module_version": "1.2.0",
            "_view_count": null,
            "flex_flow": null,
            "width": null,
            "min_width": null,
            "border": null,
            "align_items": null,
            "bottom": null,
            "_model_module": "@jupyter-widgets/base",
            "top": null,
            "grid_column": null,
            "overflow_y": null,
            "overflow_x": null,
            "grid_auto_flow": null,
            "grid_area": null,
            "grid_template_columns": null,
            "flex": null,
            "_model_name": "LayoutModel",
            "justify_items": null,
            "grid_row": null,
            "max_height": null,
            "align_content": null,
            "visibility": null,
            "align_self": null,
            "height": null,
            "min_height": null,
            "padding": null,
            "grid_auto_rows": null,
            "grid_gap": null,
            "max_width": null,
            "order": null,
            "_view_module_version": "1.2.0",
            "grid_template_areas": null,
            "object_position": null,
            "object_fit": null,
            "grid_auto_columns": null,
            "margin": null,
            "display": null,
            "left": null
          }
        },
        "ce7af796f3f743ec94c3265c256f0da8": {
          "model_module": "@jupyter-widgets/controls",
          "model_name": "SliderStyleModel",
          "state": {
            "_view_name": "StyleView",
            "handle_color": null,
            "_model_name": "SliderStyleModel",
            "description_width": "",
            "_view_module": "@jupyter-widgets/base",
            "_model_module_version": "1.5.0",
            "_view_count": null,
            "_view_module_version": "1.2.0",
            "_model_module": "@jupyter-widgets/controls"
          }
        },
        "d2d548def5d04b5a88eadef7cb11e2da": {
          "model_module": "@jupyter-widgets/base",
          "model_name": "LayoutModel",
          "state": {
            "_view_name": "LayoutView",
            "grid_template_rows": null,
            "right": null,
            "justify_content": null,
            "_view_module": "@jupyter-widgets/base",
            "overflow": null,
            "_model_module_version": "1.2.0",
            "_view_count": null,
            "flex_flow": null,
            "width": null,
            "min_width": null,
            "border": null,
            "align_items": null,
            "bottom": null,
            "_model_module": "@jupyter-widgets/base",
            "top": null,
            "grid_column": null,
            "overflow_y": null,
            "overflow_x": null,
            "grid_auto_flow": null,
            "grid_area": null,
            "grid_template_columns": null,
            "flex": null,
            "_model_name": "LayoutModel",
            "justify_items": null,
            "grid_row": null,
            "max_height": null,
            "align_content": null,
            "visibility": null,
            "align_self": null,
            "height": null,
            "min_height": null,
            "padding": null,
            "grid_auto_rows": null,
            "grid_gap": null,
            "max_width": null,
            "order": null,
            "_view_module_version": "1.2.0",
            "grid_template_areas": null,
            "object_position": null,
            "object_fit": null,
            "grid_auto_columns": null,
            "margin": null,
            "display": null,
            "left": null
          }
        },
        "4c806097b7a040e3ac1edb456e24a9c4": {
          "model_module": "@jupyter-widgets/controls",
          "model_name": "SliderStyleModel",
          "state": {
            "_view_name": "StyleView",
            "handle_color": null,
            "_model_name": "SliderStyleModel",
            "description_width": "",
            "_view_module": "@jupyter-widgets/base",
            "_model_module_version": "1.5.0",
            "_view_count": null,
            "_view_module_version": "1.2.0",
            "_model_module": "@jupyter-widgets/controls"
          }
        },
        "0c67410771134dd9bb9de1cd18a16944": {
          "model_module": "@jupyter-widgets/base",
          "model_name": "LayoutModel",
          "state": {
            "_view_name": "LayoutView",
            "grid_template_rows": null,
            "right": null,
            "justify_content": null,
            "_view_module": "@jupyter-widgets/base",
            "overflow": null,
            "_model_module_version": "1.2.0",
            "_view_count": null,
            "flex_flow": null,
            "width": null,
            "min_width": null,
            "border": null,
            "align_items": null,
            "bottom": null,
            "_model_module": "@jupyter-widgets/base",
            "top": null,
            "grid_column": null,
            "overflow_y": null,
            "overflow_x": null,
            "grid_auto_flow": null,
            "grid_area": null,
            "grid_template_columns": null,
            "flex": null,
            "_model_name": "LayoutModel",
            "justify_items": null,
            "grid_row": null,
            "max_height": null,
            "align_content": null,
            "visibility": null,
            "align_self": null,
            "height": null,
            "min_height": null,
            "padding": null,
            "grid_auto_rows": null,
            "grid_gap": null,
            "max_width": null,
            "order": null,
            "_view_module_version": "1.2.0",
            "grid_template_areas": null,
            "object_position": null,
            "object_fit": null,
            "grid_auto_columns": null,
            "margin": null,
            "display": null,
            "left": null
          }
        },
        "0d392df9e0e844e5a9fc8edd2515f617": {
          "model_module": "@jupyter-widgets/base",
          "model_name": "LayoutModel",
          "state": {
            "_view_name": "LayoutView",
            "grid_template_rows": null,
            "right": null,
            "justify_content": null,
            "_view_module": "@jupyter-widgets/base",
            "overflow": null,
            "_model_module_version": "1.2.0",
            "_view_count": null,
            "flex_flow": null,
            "width": null,
            "min_width": null,
            "border": null,
            "align_items": null,
            "bottom": null,
            "_model_module": "@jupyter-widgets/base",
            "top": null,
            "grid_column": null,
            "overflow_y": null,
            "overflow_x": null,
            "grid_auto_flow": null,
            "grid_area": null,
            "grid_template_columns": null,
            "flex": null,
            "_model_name": "LayoutModel",
            "justify_items": null,
            "grid_row": null,
            "max_height": null,
            "align_content": null,
            "visibility": null,
            "align_self": null,
            "height": null,
            "min_height": null,
            "padding": null,
            "grid_auto_rows": null,
            "grid_gap": null,
            "max_width": null,
            "order": null,
            "_view_module_version": "1.2.0",
            "grid_template_areas": null,
            "object_position": null,
            "object_fit": null,
            "grid_auto_columns": null,
            "margin": null,
            "display": null,
            "left": null
          }
        }
      }
    }
  },
  "cells": [
    {
      "cell_type": "markdown",
      "metadata": {
        "id": "view-in-github",
        "colab_type": "text"
      },
      "source": [
        "<a href=\"https://colab.research.google.com/github/vaammpyy/Physics/blob/main/Projectile%20motion/Without%20Drag/code.ipynb\" target=\"_parent\"><img src=\"https://colab.research.google.com/assets/colab-badge.svg\" alt=\"Open In Colab\"/></a>"
      ]
    },
    {
      "cell_type": "code",
      "metadata": {
        "id": "hn4-gobLdcHP"
      },
      "source": [
        "import matplotlib.pyplot as plt\n",
        "import numpy as np\n",
        "from ipywidgets import interactive\n",
        "import sympy as sp\n",
        "import math\n",
        "import sys"
      ],
      "execution_count": 1,
      "outputs": []
    },
    {
      "cell_type": "code",
      "metadata": {
        "id": "D4VUIJfZhBWX"
      },
      "source": [
        "def plotter(x,f,xlim,ytop,x_1,y_1):\n",
        "  plt.figure(figsize=(10,10),facecolor='white')\n",
        "  plt.plot(x,f,'k',x_1,y_1,'ro')\n",
        "  plt.grid()\n",
        "  plt.legend([\"Trajectory\",\"Max height\"])\n",
        "  plt.ylabel(\"Height(m)\")\n",
        "  plt.xlabel(\"Range(m)\")\n",
        "  plt.ylim(top=ytop,bottom=0)\n",
        "  plt.xlim(0,xlim)\n",
        "  #plt.text()\n",
        "  #plt.axis('scaled')\n",
        "  plt.show()"
      ],
      "execution_count": 36,
      "outputs": []
    },
    {
      "cell_type": "code",
      "metadata": {
        "id": "D8xbuGhKimhw"
      },
      "source": [
        "def trajectory(theta,velo,height,acceleration):\n",
        "  \n",
        "  \n",
        "  theta=theta*np.pi/180\n",
        "  u=velo\n",
        "  h=height\n",
        "  accel=acceleration\n",
        "  \n",
        "  \n",
        "  d= sp.Symbol('d')\n",
        "  k=d*np.tan(theta)-accel*d**2/(2*u**2*(np.cos(theta))**2)+h\n",
        "  m=sp.solve(k)\n",
        "  m[0]=float(m[0])\n",
        "  m[1]=float(m[1])\n",
        "  \n",
        "  xlim=0\n",
        "  if len(m)==2:\n",
        "    if m[1]>1:\n",
        "       xlim=np.ceil(m[1])\n",
        "    else:\n",
        "       y=round(m[1],3)\n",
        "       xlim=y+0.01*y\n",
        "  else:\n",
        "    xlim=np.ceil(m[0])\n",
        "  \n",
        "  x=np.linspace(0,1.1*xlim,100)\n",
        " \n",
        "  f=lambda theta,u,h,accel:x*np.tan(theta)-accel*x**2/(2*u**2*(np.cos(theta))**2)+h\n",
        "  t=(u*np.sin(theta)+np.sqrt((u*np.sin(theta))**2+2*accel*h))/accel\n",
        " \n",
        "  x_1=np.tan(theta)*(2*u**2*(np.cos(theta))**2)/(2*accel)\n",
        " \n",
        "  if theta>=0:\n",
        "      h_max=(u*np.sin(theta))**2/(2*accel)+h\n",
        "  else:\n",
        "      h_max=h+0.0\n",
        "  y_1=h_max\n",
        "  \n",
        "  print(\"Time of flight ={}s\".format(round(t,3)))\n",
        "  \n",
        "  if len(m)==2:\n",
        "     print(\"Range ={}m\".format(round(m[1],3)))\n",
        "  else:\n",
        "     print(\"Range ={}m\".format(round(m[0],3)))\n",
        "  print(\"Max height ={}m\".format(round(h_max,3)))\n",
        "  ylim=h_max+0.1*h_max\n",
        "  plotter(x,f(theta,u,h,accel),xlim,ylim,x_1,y_1)"
      ],
      "execution_count": 37,
      "outputs": []
    },
    {
      "cell_type": "code",
      "metadata": {
        "id": "ePrxkxbrRSqI"
      },
      "source": [
        "iplot=interactive(trajectory,\n",
        "                    theta=(-90,90,1),\n",
        "                    velo=(1,25,1),\n",
        "                    height=(0,50,1),\n",
        "                    acceleration=(1,25,1))"
      ],
      "execution_count": 38,
      "outputs": []
    },
    {
      "cell_type": "code",
      "metadata": {
        "id": "E9gMCE4Vo7M6",
        "outputId": "96e24f5e-a898-4935-dca6-aa92230d568d",
        "colab": {
          "base_uri": "https://localhost:8080/",
          "height": 802,
          "referenced_widgets": [
            "d5e46415032d4da99bc9ebd4d81d08a2",
            "e021d004ebc94f1a891296eed2b0fbb7",
            "978bd96066934de1960dcf81874e2651",
            "15cd4c34b6ae40c49a9457aa77f0c3df",
            "81c201294a3a4fb6b888a2a06c601278",
            "541e6265fd7a482389f7947637cb1b2c",
            "19ef2314ca044a4c8dc4e083f5db5fb4",
            "726aba5a7c4c42678680b4b3790f1060",
            "e58e2c3b1c794d6290755b0bda7bef80",
            "8004b2a693ee4818832d8cd34fd3630f",
            "22eb01c27e40480eb6fdf7126387f3c9",
            "ce7af796f3f743ec94c3265c256f0da8",
            "d2d548def5d04b5a88eadef7cb11e2da",
            "4c806097b7a040e3ac1edb456e24a9c4",
            "0c67410771134dd9bb9de1cd18a16944",
            "0d392df9e0e844e5a9fc8edd2515f617"
          ]
        }
      },
      "source": [
        "v_1=input(\"Enter 'c'for custom trajectory or press enter for interactive trajectory:\")\n",
        "\n",
        "if v_1=='c':\n",
        "    v_2=float(input(\"Enter angle of projection in degrees:\"))\n",
        "    v_3=float(input(\"Enter projection velocity in m/s:\"))\n",
        "    v_4=float(input(\"Enter initial elevation in m:\"))\n",
        "    v_5=float(input(\"Enter downward acceleration in m/s^2:\"))\n",
        "    trajectory(v_2,v_3,v_4,v_5)\n",
        "    sys.exit()\n",
        "iplot"
      ],
      "execution_count": 39,
      "outputs": [
        {
          "output_type": "stream",
          "text": [
            "Enter 'c'for custom trajectory or press enter for interactive trajectory:\n"
          ],
          "name": "stdout"
        },
        {
          "output_type": "display_data",
          "data": {
            "application/vnd.jupyter.widget-view+json": {
              "model_id": "d5e46415032d4da99bc9ebd4d81d08a2",
              "version_minor": 0,
              "version_major": 2
            },
            "text/plain": [
              "interactive(children=(IntSlider(value=0, description='theta', max=90, min=-90), IntSlider(value=13, descriptio…"
            ]
          },
          "metadata": {
            "tags": []
          }
        }
      ]
    }
  ]
}