{
 "cells": [
  {
   "cell_type": "code",
   "execution_count": 1,
   "id": "92e63c5d-10e0-443e-a184-2162bac347aa",
   "metadata": {},
   "outputs": [],
   "source": [
    "import numpy as np\n",
    "from scipy.integrate import odeint"
   ]
  },
  {
   "cell_type": "code",
   "execution_count": 2,
   "id": "a384e9af-3dcc-4542-8236-e286bef97462",
   "metadata": {},
   "outputs": [],
   "source": [
    "#def ddt(x1,y1,z1,vx1,vy1,vz1,x2,y2,z2,vx2,vy2,vz2,m1,m2):\n",
    "def dSdt(S,t,m1,m2):\n",
    "    dx1dt=S[3]\n",
    "    dy1dt=S[4]\n",
    "    dz1dt=S[5]\n",
    "    \n",
    "    dx2dt=S[9]\n",
    "    dy2dt=S[10]\n",
    "    dz2dt=S[11]\n",
    "    \n",
    "    r=((S[0]-S[6])**2+(S[1]-S[7])**2+(S[2]-S[8])**2)**0.5\n",
    "    fact=m1*m2/r**3\n",
    "    \n",
    "    dvx1dt=fact/m1*(S[6]-S[0])\n",
    "    dvy1dt=fact/m1*(S[7]-S[1])\n",
    "    dvz1dt=fact/m1*(S[8]-S[2])\n",
    "    \n",
    "    dvx2dt=fact/m2*(S[0]-S[6])\n",
    "    dvy2dt=fact/m2*(S[1]-S[7])\n",
    "    dvz2dt=fact/m2*(S[2]-S[8])\n",
    "    \n",
    "    return(dx1dt,dy1dt,dz1dt,dvx1dt,dvy1dt,dvz1dt,dx2dt,dy2dt,dz2dt,dvx2dt,dvy2dt,dvz2dt)"
   ]
  },
  {
   "cell_type": "code",
   "execution_count": 3,
   "id": "581c3f61-7605-493c-8804-5a70f457ed7c",
   "metadata": {},
   "outputs": [
    {
     "name": "stdin",
     "output_type": "stream",
     "text": [
      "Enter the coordinates, velocity and mass of Particle 1:  1 0 0 0 1 0 10\n",
      "Enter the coordinates, velocity and mass of Particle 2:  -1 0 0 0 -0.5 0 20\n"
     ]
    }
   ],
   "source": [
    "p1=input(\"Enter the coordinates, velocity and mass of Particle 1: \")\n",
    "p2=input(\"Enter the coordinates, velocity and mass of Particle 2: \")\n",
    "\n",
    "c1=p1.split(\" \")\n",
    "c2=p2.split(\" \")\n",
    "\n",
    "x1,y1,z1=float(c1[0]),float(c1[1]),float(c1[2])\n",
    "vx1,vy1,vz1=float(c1[3]),float(c1[4]),float(c1[5])\n",
    "m1=float(c1[6])\n",
    "x2,y2,z2=float(c2[0]),float(c2[1]),float(c2[2])\n",
    "vx2,vy2,vz2=float(c2[3]),float(c2[4]),float(c2[5])\n",
    "m2=float(c2[6])"
   ]
  },
  {
   "cell_type": "code",
   "execution_count": 4,
   "id": "81066223-6289-4c91-8e48-e1c03b70d38f",
   "metadata": {},
   "outputs": [],
   "source": [
    "time=np.linspace(0,10,10000)\n",
    "solution=odeint(dSdt,y0=[x1,y1,z1,vx1,vy1,vz1,x2,y2,z2,vx2,vy2,vz2],t=time,args=(m1,m2))"
   ]
  },
  {
   "cell_type": "code",
   "execution_count": 5,
   "id": "7b0a609e-88c4-4f3a-a7ac-8f928b416743",
   "metadata": {},
   "outputs": [],
   "source": [
    "ans=solution.T"
   ]
  },
  {
   "cell_type": "code",
   "execution_count": 6,
   "id": "c54c9ecd-1935-46d5-9ec2-76e355d9f61d",
   "metadata": {},
   "outputs": [],
   "source": [
    "np.savetxt(\"data.csv\",ans,delimiter=',')"
   ]
  },
  {
   "cell_type": "code",
   "execution_count": 7,
   "id": "e81c9110-1b32-4ec1-a882-57ea00eb8ba8",
   "metadata": {},
   "outputs": [
    {
     "data": {
      "text/plain": [
       "array([[ 1.        ,  0.9999975 ,  0.99999   , ...,  0.73396062,\n",
       "         0.73573098,  0.73749438],\n",
       "       [ 0.        ,  0.0010001 ,  0.00200019, ..., -0.29456892,\n",
       "        -0.29380815, -0.29304546],\n",
       "       [ 0.        ,  0.        ,  0.        , ...,  0.        ,\n",
       "         0.        ,  0.        ],\n",
       "       ...,\n",
       "       [ 0.        ,  0.00250025,  0.00500052, ..., -0.88684069,\n",
       "        -0.88334973, -0.87986719],\n",
       "       [-0.5       , -0.49999906, -0.49999625, ..., -0.37986559,\n",
       "        -0.38082704, -0.38178211],\n",
       "       [ 0.        ,  0.        ,  0.        , ...,  0.        ,\n",
       "         0.        ,  0.        ]])"
      ]
     },
     "execution_count": 7,
     "metadata": {},
     "output_type": "execute_result"
    }
   ],
   "source": [
    "ans"
   ]
  },
  {
   "cell_type": "code",
   "execution_count": null,
   "id": "0afa588f-a490-482b-8171-9bf5058ed2dd",
   "metadata": {},
   "outputs": [],
   "source": []
  },
  {
   "cell_type": "code",
   "execution_count": null,
   "id": "50c51067-a58a-4ca9-8f61-9b160c5be794",
   "metadata": {},
   "outputs": [],
   "source": []
  },
  {
   "cell_type": "code",
   "execution_count": null,
   "id": "ef0c506c-4b5a-4ceb-82cb-d499289db996",
   "metadata": {},
   "outputs": [],
   "source": []
  }
 ],
 "metadata": {
  "kernelspec": {
   "display_name": "Python 3 (ipykernel)",
   "language": "python",
   "name": "python3"
  },
  "language_info": {
   "codemirror_mode": {
    "name": "ipython",
    "version": 3
   },
   "file_extension": ".py",
   "mimetype": "text/x-python",
   "name": "python",
   "nbconvert_exporter": "python",
   "pygments_lexer": "ipython3",
   "version": "3.9.7"
  }
 },
 "nbformat": 4,
 "nbformat_minor": 5
}
