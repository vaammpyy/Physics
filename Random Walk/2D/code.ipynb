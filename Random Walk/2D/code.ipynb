{
  "nbformat": 4,
  "nbformat_minor": 0,
  "metadata": {
    "colab": {
      "name": "Random walk.ipynb",
      "provenance": [],
      "authorship_tag": "ABX9TyMYF9UV/6In2LRyYSkszb3e",
      "include_colab_link": true
    },
    "kernelspec": {
      "display_name": "Python 3",
      "name": "python3"
    },
    "language_info": {
      "name": "python"
    }
  },
  "cells": [
    {
      "cell_type": "markdown",
      "metadata": {
        "id": "view-in-github",
        "colab_type": "text"
      },
      "source": [
        "<a href=\"https://colab.research.google.com/github/vaammpyy/Physics/blob/main/Random%20Walk/2D/code.ipynb\" target=\"_parent\"><img src=\"https://colab.research.google.com/assets/colab-badge.svg\" alt=\"Open In Colab\"/></a>"
      ]
    },
    {
      "cell_type": "code",
      "metadata": {
        "id": "HR88y3rl7Pxk"
      },
      "source": [
        "import numpy as np\n",
        "import matplotlib.pyplot as plt\n",
        "import random as rand\n",
        "from matplotlib.animation import FuncAnimation\n",
        "from IPython import display"
      ],
      "execution_count": 1,
      "outputs": []
    },
    {
      "cell_type": "code",
      "metadata": {
        "id": "YO5_2oUjGNRz"
      },
      "source": [
        "N=int(input(\"Enter number of steps: \"))\n",
        "line_width=input(\"Enter line width for the plot(Use smaller number for larger steps): \")\n",
        "if N>=1000:\n",
        "  case=input(\"Type 'yes' for animation or press 'enter' for just plot \\nWarning: Animating for steps>1000 can take upto anywhere from serveral minutes to serveral hours to compile. For steps=10000 it usually takes 20 mins to compile: \")\n",
        "else:\n",
        "  case=input(\"Type 'yes' for animation or press 'enter' for just plot: \")\n",
        "print(\"\\n\")\n",
        "seed=(0,0)   \n",
        "x=[0]*N\n",
        "y=[0]*N\n",
        "x[0]=seed[0]\n",
        "y[0]=seed[1]\n",
        " \n",
        "for i in range(1,N):\n",
        "  xx=x[i-1]+rand.choice([-1,1,0])\n",
        "  yy=y[i-1]+rand.choice([-1,1,0])\n",
        "  x[i]=xx\n",
        "  y[i]=yy\n",
        "x=np.array(x)\n",
        "y=np.array(y)\n",
        " \n",
        "x_min=np.floor(x.min())\n",
        "x_max=np.ceil(x.max())\n",
        "y_min=np.floor(y.min())\n",
        "y_max=np.ceil(y.max())\n",
        "\n",
        "\n",
        "fig=plt.figure(facecolor='white',figsize=(12,12))\n",
        "plt.plot(x,y,'k',linewidth=line_width)\n",
        "plt.xticks(np.arange(x_min-1,x_max+1,step=1.0),labels=\" \")\n",
        "plt.yticks(np.arange(y_min-1,y_max+1,step=1.0),labels=\" \")\n",
        "plt.xlim((x_min-1,x_max+1))\n",
        "plt.ylim((y_min-1,y_max+1))\n",
        "plt.axis('scaled')\n",
        "plt.title(\"Random Walk  N={}\".format(N),fontsize=18)\n",
        "plt.tick_params(\n",
        "    axis='x',          # changes apply to the x-axis\n",
        "    which='both',      # both major and minor ticks are affected\n",
        "    bottom=False,      # ticks along the bottom edge are off\n",
        "    top=False,         # ticks along the top edge are off\n",
        "    labelbottom=False) # labels along the bottom edge are off\n",
        "plt.tick_params(\n",
        "    axis='y',          # changes apply to the x-axis\n",
        "    which='both',      # both major and minor ticks are affected\n",
        "    left=False \n",
        "    ) # labels along the bottom edge are off\n",
        "plt.show()\n",
        "\n",
        "\n",
        "if case==\"yes\":\n",
        "\n",
        "  fig2= plt.figure(figsize=(12,12),facecolor='white')\n",
        "  \n",
        "  plt.tick_params(\n",
        "      axis='x',          # changes apply to the x-axis\n",
        "      which='both',      # both major and minor ticks are affected\n",
        "      bottom=False,      # ticks along the bottom edge are off\n",
        "      top=False,         # ticks along the top edge are off\n",
        "      labelbottom=False) # labels along the bottom edge are off\n",
        "  plt.tick_params(\n",
        "      axis='y',          # changes apply to the x-axis\n",
        "      which='both',      # both major and minor ticks are affected\n",
        "      left=False,\n",
        "      labelleft=False) # labels along the bottom edge are off \n",
        "  plt.xticks(np.arange(x_min-1,x_max+1,step=1.0),labels=\" \")\n",
        "  plt.yticks(np.arange(y_min-1,y_max+1,step=1.0),labels=\" \")\n",
        "  \n",
        "  plt.xlim((x_min-1,x_max+1))\n",
        "  plt.ylim((y_min-1,y_max+1))\n",
        "  #plt.title(\"Random Walk  N={}\".format(N))\n",
        "  \n",
        "  lines=plt.plot([],'k',[],'ro',linewidth=line_width)\n",
        "  line=lines[0]\n",
        "  time_text=plt.title('',fontsize=18,loc='left')\n",
        "  points=plt.plot([],'ro')\n",
        "  point=points[0]\n",
        "  \n",
        "  def animate(frame):\n",
        "    if frame<N:\n",
        "      time=frame*20/1000 \n",
        "      line.set_data((x[:(frame+1)],y[:(frame+1)]))\n",
        "      time_text.set_text(\"Time[s] ={}\".format(time)) \n",
        "      point.set_data((x[frame],y[frame]))\n",
        "\n",
        "  anim=FuncAnimation(fig2,animate,frames=N+50,interval=20)\n",
        "  video=anim.to_html5_video()\n",
        "  html=display.HTML(video)\n",
        "  display.display(html)\n",
        "  \n",
        "  plt.close()"
      ],
      "execution_count": null,
      "outputs": []
    },
    {
      "cell_type": "code",
      "metadata": {
        "id": "Ixm_8woujBY7"
      },
      "source": [
        ""
      ],
      "execution_count": null,
      "outputs": []
    }
  ]
}